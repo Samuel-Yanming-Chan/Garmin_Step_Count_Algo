{
 "cells": [
  {
   "cell_type": "code",
   "execution_count": 341,
   "metadata": {},
   "outputs": [
    {
     "data": {
      "text/html": [
       "        <script type=\"text/javascript\">\n",
       "        window.PlotlyConfig = {MathJaxConfig: 'local'};\n",
       "        if (window.MathJax) {MathJax.Hub.Config({SVG: {font: \"STIX-Web\"}});}\n",
       "        if (typeof require !== 'undefined') {\n",
       "        require.undef(\"plotly\");\n",
       "        requirejs.config({\n",
       "            paths: {\n",
       "                'plotly': ['https://cdn.plot.ly/plotly-latest.min']\n",
       "            }\n",
       "        });\n",
       "        require(['plotly'], function(Plotly) {\n",
       "            window._Plotly = Plotly;\n",
       "        });\n",
       "        }\n",
       "        </script>\n",
       "        "
      ]
     },
     "metadata": {},
     "output_type": "display_data"
    }
   ],
   "source": [
    "import pandas as pd\n",
    "import numpy as np\n",
    "import matplotlib.pyplot as plt\n",
    "import plotly.offline as py\n",
    "import plotly.express as px\n",
    "import plotly.graph_objects as go\n",
    "\n",
    "py.init_notebook_mode(connected=True)"
   ]
  },
  {
   "cell_type": "code",
   "execution_count": 342,
   "metadata": {},
   "outputs": [],
   "source": [
    "df = pd.read_csv(r'C:\\Users\\samue\\OneDrive\\Documents\\Python Scripts\\Garmin_Step_Count\\Data\\May212019-Jan052020\\WELLNESS_TOTAL_STEPS.csv',skiprows=[0])"
   ]
  },
  {
   "cell_type": "code",
   "execution_count": 343,
   "metadata": {},
   "outputs": [],
   "source": [
    "count = 31\n",
    "for x in range(1, count+1):\n",
    "    file_num = (x)\n",
    "    temp = pd.read_csv(fr'C:\\Users\\samue\\OneDrive\\Documents\\Python Scripts\\Garmin_Step_Count\\Data\\May212019-Jan052020\\WELLNESS_TOTAL_STEPS ({file_num}).csv',skiprows=[0])\n",
    "    df = pd.concat([temp, df], ignore_index=True)"
   ]
  },
  {
   "cell_type": "code",
   "execution_count": 344,
   "metadata": {},
   "outputs": [],
   "source": [
    "rng = pd.date_range(end='2020-01-05', periods=212, freq='D').sort_values(ascending=True)\n",
    "\n",
    "df.insert(0,'date',rng)\n",
    "\n",
    "df.to_csv(r'C:\\Users\\samue\\OneDrive\\Documents\\Python Scripts\\Garmin_Step_Count\\Data\\Cleaned_data\\clean.csv')"
   ]
  },
  {
   "cell_type": "code",
   "execution_count": 345,
   "metadata": {},
   "outputs": [],
   "source": [
    "def consecutive(count,col):\n",
    "    \"\"\"Returns a series of ints that indicates if there have been consecutive negative\n",
    "    or positive numbers in a row before and including the current item, 1 for yes and 0 for no.\n",
    "    \n",
    "    Parameters\n",
    "    ----------\n",
    "    count : int\n",
    "        The number of consecutive to produce a true\n",
    "    col : pandas series\n",
    "        The column for comparison\n",
    "    \"\"\"\n",
    "    \n",
    "    bool_col = col.apply(lambda x: 1 if x >= 0 else 0)\n",
    "    result = bool_col\n",
    "    \n",
    "    for x in range(1, count):\n",
    "        result = result + bool_col[x:].reset_index(drop=True)\n",
    "    \n",
    "    result = result[:-count+1]\n",
    "    result.index += count-1\n",
    "    \n",
    "    result = result.apply(lambda x: 1 if x == count or x == 0 else 0)\n",
    "    \n",
    "    return(result)"
   ]
  },
  {
   "cell_type": "code",
   "execution_count": 359,
   "metadata": {},
   "outputs": [],
   "source": [
    "df['Difference'] = df['Actual'] - df['Goal']\n",
    "df['Goal_Delta'] = df['Goal'][1:].reset_index(drop=True) - df['Goal']\n",
    "\n",
    "df['Goal_Diff_Perc'] = df['Actual'] / df['Goal'] * 100\n",
    "\n",
    "df['Diff_Scale'] = df['Difference'] / df['Goal']\n",
    "df['Diff_Scale_Norm'] = (df['Diff_Scale']-df['Diff_Scale'].min()) / (df['Diff_Scale'].max()-df['Diff_Scale'].min())\n",
    "\n",
    "for x in range(2,5):\n",
    "    df[f'Consec {x}'] = consecutive(x,df['Goal_Delta'])"
   ]
  },
  {
   "cell_type": "code",
   "execution_count": 360,
   "metadata": {},
   "outputs": [
    {
     "name": "stdout",
     "output_type": "stream",
     "text": [
      "<class 'pandas.core.frame.DataFrame'>\n",
      "RangeIndex: 212 entries, 0 to 211\n",
      "Data columns (total 12 columns):\n",
      "date               212 non-null datetime64[ns]\n",
      "Unnamed: 0         212 non-null object\n",
      "Actual             212 non-null int64\n",
      "Goal               212 non-null int64\n",
      "Difference         212 non-null int64\n",
      "Goal_Delta         211 non-null float64\n",
      "Goal_Diff_Perc     212 non-null float64\n",
      "Consec 2           211 non-null float64\n",
      "Consec 3           210 non-null float64\n",
      "Consec 4           209 non-null float64\n",
      "Diff_Scale         212 non-null float64\n",
      "Diff_Scale_Norm    212 non-null float64\n",
      "dtypes: datetime64[ns](1), float64(7), int64(3), object(1)\n",
      "memory usage: 20.0+ KB\n"
     ]
    }
   ],
   "source": [
    "df.info()"
   ]
  },
  {
   "cell_type": "code",
   "execution_count": 348,
   "metadata": {},
   "outputs": [],
   "source": [
    "df[[\"Actual\",\"Goal\",\"Difference\",\"Goal_Delta\",\"Goal_Diff_Perc\"]] = df[[\"Actual\",\"Goal\",\"Difference\",\"Goal_Delta\",\"Goal_Diff_Perc\"]].apply(pd.to_numeric)"
   ]
  },
  {
   "cell_type": "code",
   "execution_count": 362,
   "metadata": {},
   "outputs": [
    {
     "data": {
      "application/vnd.plotly.v1+json": {
       "config": {
        "plotlyServerURL": "https://plot.ly"
       },
       "data": [
        {
         "hoverlabel": {
          "namelength": 0
         },
         "hovertemplate": "Goal_Delta=%{x}<br>Difference=%{y}<br>Diff_Scale_Norm=%{marker.size}<br>Consec 2=%{marker.color}",
         "legendgroup": "",
         "marker": {
          "color": [
           null,
           1,
           0,
           0,
           1,
           0,
           1,
           1,
           0,
           0,
           0,
           1,
           0,
           0,
           1,
           1,
           1,
           1,
           1,
           0,
           0,
           1,
           1,
           0,
           0,
           0,
           1,
           1,
           0,
           1,
           0,
           1,
           0,
           0,
           0,
           1,
           0,
           1,
           1,
           0,
           0,
           1,
           0,
           1,
           0,
           0,
           1,
           0,
           1,
           0,
           1,
           0,
           1,
           1,
           0,
           1,
           1,
           1,
           0,
           1,
           1,
           1,
           0,
           0,
           0,
           1,
           0,
           0,
           1,
           1,
           1,
           0,
           1,
           1,
           1,
           0,
           1,
           0,
           1,
           0,
           0,
           1,
           0,
           0,
           0,
           0,
           0,
           0,
           1,
           0,
           1,
           0,
           1,
           0,
           0,
           0,
           1,
           0,
           0,
           1,
           0,
           1,
           1,
           1,
           0,
           1,
           1,
           0,
           1,
           1,
           1,
           0,
           0,
           1,
           1,
           0,
           1,
           1,
           0,
           1,
           0,
           1,
           1,
           0,
           1,
           1,
           1,
           0,
           1,
           0,
           0,
           1,
           0,
           1,
           1,
           1,
           1,
           1,
           1,
           0,
           1,
           0,
           1,
           0,
           1,
           1,
           1,
           1,
           1,
           0,
           0,
           0,
           1,
           1,
           1,
           1,
           1,
           1,
           0,
           1,
           1,
           1,
           1,
           0,
           1,
           0,
           0,
           0,
           1,
           0,
           0,
           1,
           0,
           1,
           1,
           1,
           0,
           0,
           1,
           0,
           0,
           1,
           0,
           1,
           1,
           1,
           0,
           1,
           1,
           0,
           1,
           1,
           0,
           1,
           1,
           1,
           0,
           1,
           1,
           0,
           0,
           1,
           1,
           0,
           0,
           1,
           0,
           1,
           0,
           1,
           0,
           1
          ],
          "coloraxis": "coloraxis",
          "size": [
           0.5530973831765347,
           0.33855838778871233,
           0.19679145178792715,
           0.3327697029192903,
           0.4203032053231375,
           0.15323809821023687,
           0.19435466156328252,
           0.052125979400595414,
           0.6731522265018348,
           0.25290243795375833,
           0.41339355385466164,
           0.39604103272845675,
           0.18168172764499768,
           0.3317552525801398,
           0.9201601030745874,
           0.4178163018177807,
           0.357312757206372,
           0.7166380106034709,
           0.33430397390084604,
           0.24415989519565395,
           0.4864231302566258,
           0.4225512194482728,
           0.7026409790014766,
           0.16844002538464148,
           0.5635282052862817,
           0.23551126490607593,
           0.23827302348419463,
           0.16298101976092105,
           0.8404466359902122,
           0.3915703679628855,
           0.23030470029810973,
           0.29315426756757834,
           0.4680752593401097,
           0.22528823665777184,
           0.34678115542252824,
           0.7610615385946965,
           0.2309035799482798,
           0.22985397023122692,
           0.07620939890779853,
           0.38578543580774294,
           0.16197595908505774,
           0.13843765593047205,
           0.7911585929644243,
           0.48827582479764503,
           0.1730595038256298,
           0.5022938517787721,
           0.352081378507444,
           0.18909380826509595,
           0.22083255766605045,
           0.5300774659886933,
           0.5257520305330727,
           0.05731013683119084,
           0.11854945677322802,
           0.21971277344180068,
           0.3802941868103838,
           0.3648551749676976,
           0.5031200279950735,
           0.47803156863509905,
           0.13647239442070083,
           0.10067465521850752,
           0.29508170780243503,
           0.18953797659149577,
           0.4164940143485062,
           0.09279144001783142,
           0.9232671165671439,
           0.4357987514128104,
           0.27981209685416747,
           0.4193902600079228,
           0.3350275849441999,
           0.4943430391630045,
           0.5075618856943335,
           0.2121442269987395,
           0.2641475840695646,
           0.16682055855820033,
           0.3022457341669635,
           0.34758718363232827,
           0.4423367118561807,
           0.17764659520601214,
           0.28120264980645765,
           0.49269171957195923,
           0.26407285539107156,
           0.28588016265911875,
           0.4550985392345436,
           0.15550158550218027,
           0.4183177246028036,
           0.23378502766459333,
           0.4623847396459631,
           0.15867494058616852,
           0.30194223827473016,
           0.5278093536119559,
           0.5677909375585019,
           0.27960682076876475,
           0.28240371059726155,
           0.5096893458121488,
           0.22023558387219402,
           0.3248968741499464,
           0.5359764377753491,
           0.28070241305227805,
           0.33524965820212743,
           0.42491584906047614,
           0.2646916359597082,
           0.31010256352201593,
           0.19251790645249986,
           0.16769117576104972,
           0.38895649154273665,
           0.33029952950069325,
           0.32840254912729777,
           0.3081699649871276,
           0.12933139404186705,
           0.2182707988347789,
           0.1287264576032428,
           0.39668838669904855,
           0.29372573709348926,
           0.06228687603807227,
           0.1888389138085275,
           0.36037562024728664,
           0.3422141467358329,
           0.37217722043704987,
           0.23769012996189845,
           0.16670005368072804,
           0.3388907226897138,
           0.628661361497443,
           0.3977853410248954,
           0.30814612179091555,
           0.23749784360508652,
           0.2308020504356269,
           0.07747654283625999,
           0.5004684728871729,
           0.6544724366631667,
           0.2799056059633478,
           0.32011125023074827,
           0.013001656503900514,
           0.15395548943022055,
           0.17533192713120102,
           0.31335143709741947,
           0.25137181063569,
           0.27542766280815933,
           0.2858413214500813,
           0.22531812276870217,
           0.3521685638575813,
           0.3418834202173909,
           0.10667862429228034,
           0.24191394162848887,
           0.3405660118070628,
           0.3881467027999535,
           0.46587825980151465,
           0.5415953095299509,
           0.42797024491160623,
           0.37890072146754544,
           0.26069464836023054,
           0.33736631338159817,
           0.23587860639715907,
           0.2603944220801584,
           0.2948547350307858,
           0.20893552366732218,
           0.18020887384255072,
           0.30180534161642547,
           0.2932736828947427,
           0.3653735858176621,
           0.33013267494530263,
           0.527110458519124,
           0.3818119609664893,
           0.3187901076458827,
           0.196324393495281,
           0.24296086850359275,
           0.49376669628210135,
           0.29772176251806715,
           0.4258088268323914,
           0.34007739001141907,
           0.3019686790745153,
           0.37301312798624037,
           0.011993544738094363,
           0.23148653487293822,
           0.23189581699368167,
           0.22188349443437977,
           0.18551244607998194,
           0.6082440996925571,
           0.24565242428382844,
           0.28509666475211737,
           0.3233385048969484,
           0.26477303475120195,
           0.21707002018927435,
           0.9030373848786599,
           0.4712567461794948,
           0.3546443574593096,
           0.45911047019456347,
           0.23078228236897697,
           0.18921946656433328,
           0.266237486174373,
           0.6198937648954076,
           0.43472074742701367,
           0.010305874271412802,
           0.08668929600683478,
           0.2955074732121938,
           0.2611446681397253,
           0.17335082137030328,
           1,
           0.5898010320358643,
           0.49515987537289463,
           0.3038224535463076,
           0.3591112755087093,
           0.33128646717227705,
           0.3342224412147118,
           0.049412453485804954,
           0.4322816696998138,
           0.361546119445406,
           0.11343569013549355,
           0.05541640056630703,
           0.43727505291887864,
           0.31628074448496174,
           0.27203302950011876,
           0
          ],
          "sizemode": "area",
          "sizeref": 0.0025,
          "symbol": "circle"
         },
         "mode": "markers",
         "name": "",
         "showlegend": false,
         "type": "scatter",
         "x": [
          300,
          90,
          -140,
          60,
          320,
          -200,
          -390,
          -370,
          430,
          -70,
          310,
          300,
          -170,
          60,
          330,
          340,
          170,
          360,
          80,
          -100,
          370,
          390,
          400,
          -240,
          210,
          -130,
          -760,
          -470,
          360,
          340,
          -130,
          -240,
          380,
          -130,
          140,
          390,
          -130,
          -490,
          -470,
          300,
          -220,
          -450,
          350,
          360,
          -210,
          370,
          170,
          -190,
          -470,
          360,
          380,
          -390,
          -460,
          -440,
          260,
          200,
          360,
          380,
          -270,
          -470,
          -200,
          -430,
          340,
          -300,
          340,
          350,
          -50,
          360,
          90,
          380,
          400,
          -160,
          -570,
          -470,
          -130,
          140,
          360,
          -200,
          -350,
          360,
          -70,
          -300,
          360,
          -230,
          360,
          -120,
          370,
          -230,
          -140,
          370,
          390,
          -50,
          -360,
          390,
          -150,
          50,
          400,
          -50,
          30,
          180,
          -80,
          -70,
          -760,
          -470,
          310,
          70,
          60,
          -10,
          -470,
          -440,
          -420,
          310,
          -30,
          -410,
          -390,
          160,
          100,
          210,
          -100,
          -390,
          90,
          310,
          310,
          -10,
          -410,
          -390,
          -370,
          430,
          300,
          -40,
          40,
          0,
          -200,
          -380,
          -20,
          -360,
          -300,
          -220,
          -310,
          180,
          130,
          -210,
          -300,
          120,
          340,
          380,
          400,
          430,
          230,
          -60,
          80,
          -90,
          -380,
          -170,
          -350,
          -1230,
          -80,
          -130,
          210,
          60,
          340,
          310,
          40,
          -110,
          -300,
          360,
          -10,
          380,
          130,
          -10,
          310,
          0,
          -90,
          -340,
          -330,
          -310,
          360,
          -70,
          -210,
          40,
          -50,
          -300,
          350,
          370,
          200,
          400,
          -90,
          -340,
          -330,
          380,
          400,
          0,
          -250,
          -150,
          -330,
          -310,
          370,
          390,
          410,
          -10,
          250,
          90,
          70,
          -320,
          440,
          170,
          -250,
          -380,
          440,
          40,
          -50,
          null
         ],
         "xaxis": "x",
         "y": [
          5603,
          550,
          -2971,
          405,
          2564,
          -4178,
          -3047,
          -6279,
          8071,
          -1517,
          2308,
          1974,
          -3453,
          391,
          15294,
          2679,
          1128,
          11201,
          527,
          -2115,
          4944,
          3213,
          12150,
          -4832,
          7901,
          -2631,
          -2509,
          -4566,
          14846,
          2220,
          -2622,
          -694,
          4459,
          -2778,
          922,
          13608,
          -2714,
          -2712,
          -7167,
          1975,
          -4523,
          -5090,
          12926,
          4873,
          -4216,
          5358,
          1075,
          -3876,
          -2851,
          6077,
          6192,
          -7960,
          -5834,
          -2708,
          1710,
          1338,
          5258,
          4736,
          -5475,
          -6382,
          -594,
          -3483,
          2622,
          -6080,
          15947,
          3270,
          -1035,
          2919,
          554,
          5292,
          5914,
          -3347,
          -1648,
          -4461,
          -396,
          878,
          3584,
          -4094,
          -1012,
          4909,
          -1509,
          -871,
          3859,
          -4647,
          2879,
          -2417,
          4232,
          -4744,
          -419,
          6126,
          7577,
          -1147,
          -1054,
          5815,
          -3002,
          268,
          6806,
          -1144,
          611,
          3497,
          -1686,
          -198,
          -3990,
          -4435,
          2065,
          414,
          361,
          -239,
          -5557,
          -2767,
          -5037,
          2056,
          -596,
          -6710,
          -3201,
          1056,
          635,
          1384,
          -1993,
          -3748,
          541,
          7538,
          2048,
          -210,
          -2050,
          -2114,
          -5616,
          4120,
          8022,
          -895,
          96,
          -7477,
          -4001,
          -3385,
          -65,
          -1476,
          -882,
          -628,
          -1817,
          684,
          503,
          -4189,
          -1436,
          448,
          1350,
          2969,
          4741,
          2492,
          1483,
          -1353,
          512,
          -1963,
          -1348,
          -490,
          -2405,
          -2899,
          -251,
          -394,
          825,
          243,
          3718,
          1227,
          51,
          -2374,
          -1425,
          3287,
          -363,
          2150,
          497,
          -302,
          1204,
          -6744,
          -1878,
          -1845,
          -1963,
          -2584,
          5489,
          -1406,
          -613,
          136,
          -986,
          -1885,
          10604,
          2973,
          782,
          2997,
          -1899,
          -2787,
          -1043,
          6024,
          2493,
          -6820,
          -5117,
          -445,
          -1158,
          -2856,
          13003,
          5522,
          3832,
          -281,
          973,
          354,
          428,
          -6394,
          2665,
          1104,
          -5045,
          -6283,
          2772,
          2,
          -1078,
          -7668
         ],
         "yaxis": "y"
        }
       ],
       "layout": {
        "coloraxis": {
         "colorbar": {
          "title": {
           "text": "Consec 2"
          }
         },
         "colorscale": [
          [
           0,
           "#0d0887"
          ],
          [
           0.1111111111111111,
           "#46039f"
          ],
          [
           0.2222222222222222,
           "#7201a8"
          ],
          [
           0.3333333333333333,
           "#9c179e"
          ],
          [
           0.4444444444444444,
           "#bd3786"
          ],
          [
           0.5555555555555556,
           "#d8576b"
          ],
          [
           0.6666666666666666,
           "#ed7953"
          ],
          [
           0.7777777777777778,
           "#fb9f3a"
          ],
          [
           0.8888888888888888,
           "#fdca26"
          ],
          [
           1,
           "#f0f921"
          ]
         ]
        },
        "legend": {
         "itemsizing": "constant",
         "tracegroupgap": 0
        },
        "margin": {
         "t": 60
        },
        "template": {
         "data": {
          "bar": [
           {
            "error_x": {
             "color": "#2a3f5f"
            },
            "error_y": {
             "color": "#2a3f5f"
            },
            "marker": {
             "line": {
              "color": "#E5ECF6",
              "width": 0.5
             }
            },
            "type": "bar"
           }
          ],
          "barpolar": [
           {
            "marker": {
             "line": {
              "color": "#E5ECF6",
              "width": 0.5
             }
            },
            "type": "barpolar"
           }
          ],
          "carpet": [
           {
            "aaxis": {
             "endlinecolor": "#2a3f5f",
             "gridcolor": "white",
             "linecolor": "white",
             "minorgridcolor": "white",
             "startlinecolor": "#2a3f5f"
            },
            "baxis": {
             "endlinecolor": "#2a3f5f",
             "gridcolor": "white",
             "linecolor": "white",
             "minorgridcolor": "white",
             "startlinecolor": "#2a3f5f"
            },
            "type": "carpet"
           }
          ],
          "choropleth": [
           {
            "colorbar": {
             "outlinewidth": 0,
             "ticks": ""
            },
            "type": "choropleth"
           }
          ],
          "contour": [
           {
            "colorbar": {
             "outlinewidth": 0,
             "ticks": ""
            },
            "colorscale": [
             [
              0,
              "#0d0887"
             ],
             [
              0.1111111111111111,
              "#46039f"
             ],
             [
              0.2222222222222222,
              "#7201a8"
             ],
             [
              0.3333333333333333,
              "#9c179e"
             ],
             [
              0.4444444444444444,
              "#bd3786"
             ],
             [
              0.5555555555555556,
              "#d8576b"
             ],
             [
              0.6666666666666666,
              "#ed7953"
             ],
             [
              0.7777777777777778,
              "#fb9f3a"
             ],
             [
              0.8888888888888888,
              "#fdca26"
             ],
             [
              1,
              "#f0f921"
             ]
            ],
            "type": "contour"
           }
          ],
          "contourcarpet": [
           {
            "colorbar": {
             "outlinewidth": 0,
             "ticks": ""
            },
            "type": "contourcarpet"
           }
          ],
          "heatmap": [
           {
            "colorbar": {
             "outlinewidth": 0,
             "ticks": ""
            },
            "colorscale": [
             [
              0,
              "#0d0887"
             ],
             [
              0.1111111111111111,
              "#46039f"
             ],
             [
              0.2222222222222222,
              "#7201a8"
             ],
             [
              0.3333333333333333,
              "#9c179e"
             ],
             [
              0.4444444444444444,
              "#bd3786"
             ],
             [
              0.5555555555555556,
              "#d8576b"
             ],
             [
              0.6666666666666666,
              "#ed7953"
             ],
             [
              0.7777777777777778,
              "#fb9f3a"
             ],
             [
              0.8888888888888888,
              "#fdca26"
             ],
             [
              1,
              "#f0f921"
             ]
            ],
            "type": "heatmap"
           }
          ],
          "heatmapgl": [
           {
            "colorbar": {
             "outlinewidth": 0,
             "ticks": ""
            },
            "colorscale": [
             [
              0,
              "#0d0887"
             ],
             [
              0.1111111111111111,
              "#46039f"
             ],
             [
              0.2222222222222222,
              "#7201a8"
             ],
             [
              0.3333333333333333,
              "#9c179e"
             ],
             [
              0.4444444444444444,
              "#bd3786"
             ],
             [
              0.5555555555555556,
              "#d8576b"
             ],
             [
              0.6666666666666666,
              "#ed7953"
             ],
             [
              0.7777777777777778,
              "#fb9f3a"
             ],
             [
              0.8888888888888888,
              "#fdca26"
             ],
             [
              1,
              "#f0f921"
             ]
            ],
            "type": "heatmapgl"
           }
          ],
          "histogram": [
           {
            "marker": {
             "colorbar": {
              "outlinewidth": 0,
              "ticks": ""
             }
            },
            "type": "histogram"
           }
          ],
          "histogram2d": [
           {
            "colorbar": {
             "outlinewidth": 0,
             "ticks": ""
            },
            "colorscale": [
             [
              0,
              "#0d0887"
             ],
             [
              0.1111111111111111,
              "#46039f"
             ],
             [
              0.2222222222222222,
              "#7201a8"
             ],
             [
              0.3333333333333333,
              "#9c179e"
             ],
             [
              0.4444444444444444,
              "#bd3786"
             ],
             [
              0.5555555555555556,
              "#d8576b"
             ],
             [
              0.6666666666666666,
              "#ed7953"
             ],
             [
              0.7777777777777778,
              "#fb9f3a"
             ],
             [
              0.8888888888888888,
              "#fdca26"
             ],
             [
              1,
              "#f0f921"
             ]
            ],
            "type": "histogram2d"
           }
          ],
          "histogram2dcontour": [
           {
            "colorbar": {
             "outlinewidth": 0,
             "ticks": ""
            },
            "colorscale": [
             [
              0,
              "#0d0887"
             ],
             [
              0.1111111111111111,
              "#46039f"
             ],
             [
              0.2222222222222222,
              "#7201a8"
             ],
             [
              0.3333333333333333,
              "#9c179e"
             ],
             [
              0.4444444444444444,
              "#bd3786"
             ],
             [
              0.5555555555555556,
              "#d8576b"
             ],
             [
              0.6666666666666666,
              "#ed7953"
             ],
             [
              0.7777777777777778,
              "#fb9f3a"
             ],
             [
              0.8888888888888888,
              "#fdca26"
             ],
             [
              1,
              "#f0f921"
             ]
            ],
            "type": "histogram2dcontour"
           }
          ],
          "mesh3d": [
           {
            "colorbar": {
             "outlinewidth": 0,
             "ticks": ""
            },
            "type": "mesh3d"
           }
          ],
          "parcoords": [
           {
            "line": {
             "colorbar": {
              "outlinewidth": 0,
              "ticks": ""
             }
            },
            "type": "parcoords"
           }
          ],
          "pie": [
           {
            "automargin": true,
            "type": "pie"
           }
          ],
          "scatter": [
           {
            "marker": {
             "colorbar": {
              "outlinewidth": 0,
              "ticks": ""
             }
            },
            "type": "scatter"
           }
          ],
          "scatter3d": [
           {
            "line": {
             "colorbar": {
              "outlinewidth": 0,
              "ticks": ""
             }
            },
            "marker": {
             "colorbar": {
              "outlinewidth": 0,
              "ticks": ""
             }
            },
            "type": "scatter3d"
           }
          ],
          "scattercarpet": [
           {
            "marker": {
             "colorbar": {
              "outlinewidth": 0,
              "ticks": ""
             }
            },
            "type": "scattercarpet"
           }
          ],
          "scattergeo": [
           {
            "marker": {
             "colorbar": {
              "outlinewidth": 0,
              "ticks": ""
             }
            },
            "type": "scattergeo"
           }
          ],
          "scattergl": [
           {
            "marker": {
             "colorbar": {
              "outlinewidth": 0,
              "ticks": ""
             }
            },
            "type": "scattergl"
           }
          ],
          "scattermapbox": [
           {
            "marker": {
             "colorbar": {
              "outlinewidth": 0,
              "ticks": ""
             }
            },
            "type": "scattermapbox"
           }
          ],
          "scatterpolar": [
           {
            "marker": {
             "colorbar": {
              "outlinewidth": 0,
              "ticks": ""
             }
            },
            "type": "scatterpolar"
           }
          ],
          "scatterpolargl": [
           {
            "marker": {
             "colorbar": {
              "outlinewidth": 0,
              "ticks": ""
             }
            },
            "type": "scatterpolargl"
           }
          ],
          "scatterternary": [
           {
            "marker": {
             "colorbar": {
              "outlinewidth": 0,
              "ticks": ""
             }
            },
            "type": "scatterternary"
           }
          ],
          "surface": [
           {
            "colorbar": {
             "outlinewidth": 0,
             "ticks": ""
            },
            "colorscale": [
             [
              0,
              "#0d0887"
             ],
             [
              0.1111111111111111,
              "#46039f"
             ],
             [
              0.2222222222222222,
              "#7201a8"
             ],
             [
              0.3333333333333333,
              "#9c179e"
             ],
             [
              0.4444444444444444,
              "#bd3786"
             ],
             [
              0.5555555555555556,
              "#d8576b"
             ],
             [
              0.6666666666666666,
              "#ed7953"
             ],
             [
              0.7777777777777778,
              "#fb9f3a"
             ],
             [
              0.8888888888888888,
              "#fdca26"
             ],
             [
              1,
              "#f0f921"
             ]
            ],
            "type": "surface"
           }
          ],
          "table": [
           {
            "cells": {
             "fill": {
              "color": "#EBF0F8"
             },
             "line": {
              "color": "white"
             }
            },
            "header": {
             "fill": {
              "color": "#C8D4E3"
             },
             "line": {
              "color": "white"
             }
            },
            "type": "table"
           }
          ]
         },
         "layout": {
          "annotationdefaults": {
           "arrowcolor": "#2a3f5f",
           "arrowhead": 0,
           "arrowwidth": 1
          },
          "coloraxis": {
           "colorbar": {
            "outlinewidth": 0,
            "ticks": ""
           }
          },
          "colorscale": {
           "diverging": [
            [
             0,
             "#8e0152"
            ],
            [
             0.1,
             "#c51b7d"
            ],
            [
             0.2,
             "#de77ae"
            ],
            [
             0.3,
             "#f1b6da"
            ],
            [
             0.4,
             "#fde0ef"
            ],
            [
             0.5,
             "#f7f7f7"
            ],
            [
             0.6,
             "#e6f5d0"
            ],
            [
             0.7,
             "#b8e186"
            ],
            [
             0.8,
             "#7fbc41"
            ],
            [
             0.9,
             "#4d9221"
            ],
            [
             1,
             "#276419"
            ]
           ],
           "sequential": [
            [
             0,
             "#0d0887"
            ],
            [
             0.1111111111111111,
             "#46039f"
            ],
            [
             0.2222222222222222,
             "#7201a8"
            ],
            [
             0.3333333333333333,
             "#9c179e"
            ],
            [
             0.4444444444444444,
             "#bd3786"
            ],
            [
             0.5555555555555556,
             "#d8576b"
            ],
            [
             0.6666666666666666,
             "#ed7953"
            ],
            [
             0.7777777777777778,
             "#fb9f3a"
            ],
            [
             0.8888888888888888,
             "#fdca26"
            ],
            [
             1,
             "#f0f921"
            ]
           ],
           "sequentialminus": [
            [
             0,
             "#0d0887"
            ],
            [
             0.1111111111111111,
             "#46039f"
            ],
            [
             0.2222222222222222,
             "#7201a8"
            ],
            [
             0.3333333333333333,
             "#9c179e"
            ],
            [
             0.4444444444444444,
             "#bd3786"
            ],
            [
             0.5555555555555556,
             "#d8576b"
            ],
            [
             0.6666666666666666,
             "#ed7953"
            ],
            [
             0.7777777777777778,
             "#fb9f3a"
            ],
            [
             0.8888888888888888,
             "#fdca26"
            ],
            [
             1,
             "#f0f921"
            ]
           ]
          },
          "colorway": [
           "#636efa",
           "#EF553B",
           "#00cc96",
           "#ab63fa",
           "#FFA15A",
           "#19d3f3",
           "#FF6692",
           "#B6E880",
           "#FF97FF",
           "#FECB52"
          ],
          "font": {
           "color": "#2a3f5f"
          },
          "geo": {
           "bgcolor": "white",
           "lakecolor": "white",
           "landcolor": "#E5ECF6",
           "showlakes": true,
           "showland": true,
           "subunitcolor": "white"
          },
          "hoverlabel": {
           "align": "left"
          },
          "hovermode": "closest",
          "mapbox": {
           "style": "light"
          },
          "paper_bgcolor": "white",
          "plot_bgcolor": "#E5ECF6",
          "polar": {
           "angularaxis": {
            "gridcolor": "white",
            "linecolor": "white",
            "ticks": ""
           },
           "bgcolor": "#E5ECF6",
           "radialaxis": {
            "gridcolor": "white",
            "linecolor": "white",
            "ticks": ""
           }
          },
          "scene": {
           "xaxis": {
            "backgroundcolor": "#E5ECF6",
            "gridcolor": "white",
            "gridwidth": 2,
            "linecolor": "white",
            "showbackground": true,
            "ticks": "",
            "zerolinecolor": "white"
           },
           "yaxis": {
            "backgroundcolor": "#E5ECF6",
            "gridcolor": "white",
            "gridwidth": 2,
            "linecolor": "white",
            "showbackground": true,
            "ticks": "",
            "zerolinecolor": "white"
           },
           "zaxis": {
            "backgroundcolor": "#E5ECF6",
            "gridcolor": "white",
            "gridwidth": 2,
            "linecolor": "white",
            "showbackground": true,
            "ticks": "",
            "zerolinecolor": "white"
           }
          },
          "shapedefaults": {
           "line": {
            "color": "#2a3f5f"
           }
          },
          "ternary": {
           "aaxis": {
            "gridcolor": "white",
            "linecolor": "white",
            "ticks": ""
           },
           "baxis": {
            "gridcolor": "white",
            "linecolor": "white",
            "ticks": ""
           },
           "bgcolor": "#E5ECF6",
           "caxis": {
            "gridcolor": "white",
            "linecolor": "white",
            "ticks": ""
           }
          },
          "title": {
           "x": 0.05
          },
          "xaxis": {
           "automargin": true,
           "gridcolor": "white",
           "linecolor": "white",
           "ticks": "",
           "title": {
            "standoff": 15
           },
           "zerolinecolor": "white",
           "zerolinewidth": 2
          },
          "yaxis": {
           "automargin": true,
           "gridcolor": "white",
           "linecolor": "white",
           "ticks": "",
           "title": {
            "standoff": 15
           },
           "zerolinecolor": "white",
           "zerolinewidth": 2
          }
         }
        },
        "xaxis": {
         "anchor": "y",
         "domain": [
          0,
          1
         ],
         "title": {
          "text": "Goal_Delta"
         }
        },
        "yaxis": {
         "anchor": "x",
         "domain": [
          0,
          1
         ],
         "title": {
          "text": "Difference"
         }
        }
       }
      },
      "text/html": [
       "<div>\n",
       "        \n",
       "        \n",
       "            <div id=\"c1c6b465-d4b5-4983-b02c-605548800cbc\" class=\"plotly-graph-div\" style=\"height:525px; width:100%;\"></div>\n",
       "            <script type=\"text/javascript\">\n",
       "                require([\"plotly\"], function(Plotly) {\n",
       "                    window.PLOTLYENV=window.PLOTLYENV || {};\n",
       "                    \n",
       "                if (document.getElementById(\"c1c6b465-d4b5-4983-b02c-605548800cbc\")) {\n",
       "                    Plotly.newPlot(\n",
       "                        'c1c6b465-d4b5-4983-b02c-605548800cbc',\n",
       "                        [{\"hoverlabel\": {\"namelength\": 0}, \"hovertemplate\": \"Goal_Delta=%{x}<br>Difference=%{y}<br>Diff_Scale_Norm=%{marker.size}<br>Consec 2=%{marker.color}\", \"legendgroup\": \"\", \"marker\": {\"color\": [null, 1.0, 0.0, 0.0, 1.0, 0.0, 1.0, 1.0, 0.0, 0.0, 0.0, 1.0, 0.0, 0.0, 1.0, 1.0, 1.0, 1.0, 1.0, 0.0, 0.0, 1.0, 1.0, 0.0, 0.0, 0.0, 1.0, 1.0, 0.0, 1.0, 0.0, 1.0, 0.0, 0.0, 0.0, 1.0, 0.0, 1.0, 1.0, 0.0, 0.0, 1.0, 0.0, 1.0, 0.0, 0.0, 1.0, 0.0, 1.0, 0.0, 1.0, 0.0, 1.0, 1.0, 0.0, 1.0, 1.0, 1.0, 0.0, 1.0, 1.0, 1.0, 0.0, 0.0, 0.0, 1.0, 0.0, 0.0, 1.0, 1.0, 1.0, 0.0, 1.0, 1.0, 1.0, 0.0, 1.0, 0.0, 1.0, 0.0, 0.0, 1.0, 0.0, 0.0, 0.0, 0.0, 0.0, 0.0, 1.0, 0.0, 1.0, 0.0, 1.0, 0.0, 0.0, 0.0, 1.0, 0.0, 0.0, 1.0, 0.0, 1.0, 1.0, 1.0, 0.0, 1.0, 1.0, 0.0, 1.0, 1.0, 1.0, 0.0, 0.0, 1.0, 1.0, 0.0, 1.0, 1.0, 0.0, 1.0, 0.0, 1.0, 1.0, 0.0, 1.0, 1.0, 1.0, 0.0, 1.0, 0.0, 0.0, 1.0, 0.0, 1.0, 1.0, 1.0, 1.0, 1.0, 1.0, 0.0, 1.0, 0.0, 1.0, 0.0, 1.0, 1.0, 1.0, 1.0, 1.0, 0.0, 0.0, 0.0, 1.0, 1.0, 1.0, 1.0, 1.0, 1.0, 0.0, 1.0, 1.0, 1.0, 1.0, 0.0, 1.0, 0.0, 0.0, 0.0, 1.0, 0.0, 0.0, 1.0, 0.0, 1.0, 1.0, 1.0, 0.0, 0.0, 1.0, 0.0, 0.0, 1.0, 0.0, 1.0, 1.0, 1.0, 0.0, 1.0, 1.0, 0.0, 1.0, 1.0, 0.0, 1.0, 1.0, 1.0, 0.0, 1.0, 1.0, 0.0, 0.0, 1.0, 1.0, 0.0, 0.0, 1.0, 0.0, 1.0, 0.0, 1.0, 0.0, 1.0], \"coloraxis\": \"coloraxis\", \"size\": [0.5530973831765347, 0.33855838778871233, 0.19679145178792715, 0.3327697029192903, 0.4203032053231375, 0.15323809821023687, 0.19435466156328252, 0.052125979400595414, 0.6731522265018348, 0.25290243795375833, 0.41339355385466164, 0.39604103272845675, 0.18168172764499768, 0.3317552525801398, 0.9201601030745874, 0.4178163018177807, 0.357312757206372, 0.7166380106034709, 0.33430397390084604, 0.24415989519565395, 0.4864231302566258, 0.4225512194482728, 0.7026409790014766, 0.16844002538464148, 0.5635282052862817, 0.23551126490607593, 0.23827302348419463, 0.16298101976092105, 0.8404466359902122, 0.3915703679628855, 0.23030470029810973, 0.29315426756757834, 0.4680752593401097, 0.22528823665777184, 0.34678115542252824, 0.7610615385946965, 0.2309035799482798, 0.22985397023122692, 0.07620939890779853, 0.38578543580774294, 0.16197595908505774, 0.13843765593047205, 0.7911585929644243, 0.48827582479764503, 0.1730595038256298, 0.5022938517787721, 0.352081378507444, 0.18909380826509595, 0.22083255766605045, 0.5300774659886933, 0.5257520305330727, 0.05731013683119084, 0.11854945677322802, 0.21971277344180068, 0.3802941868103838, 0.3648551749676976, 0.5031200279950735, 0.47803156863509905, 0.13647239442070083, 0.10067465521850752, 0.29508170780243503, 0.18953797659149577, 0.4164940143485062, 0.09279144001783142, 0.9232671165671439, 0.4357987514128104, 0.27981209685416747, 0.4193902600079228, 0.3350275849441999, 0.4943430391630045, 0.5075618856943335, 0.2121442269987395, 0.2641475840695646, 0.16682055855820033, 0.3022457341669635, 0.34758718363232827, 0.4423367118561807, 0.17764659520601214, 0.28120264980645765, 0.49269171957195923, 0.26407285539107156, 0.28588016265911875, 0.4550985392345436, 0.15550158550218027, 0.4183177246028036, 0.23378502766459333, 0.4623847396459631, 0.15867494058616852, 0.30194223827473016, 0.5278093536119559, 0.5677909375585019, 0.27960682076876475, 0.28240371059726155, 0.5096893458121488, 0.22023558387219402, 0.3248968741499464, 0.5359764377753491, 0.28070241305227805, 0.33524965820212743, 0.42491584906047614, 0.2646916359597082, 0.31010256352201593, 0.19251790645249986, 0.16769117576104972, 0.38895649154273665, 0.33029952950069325, 0.32840254912729777, 0.3081699649871276, 0.12933139404186705, 0.2182707988347789, 0.1287264576032428, 0.39668838669904855, 0.29372573709348926, 0.06228687603807227, 0.1888389138085275, 0.36037562024728664, 0.3422141467358329, 0.37217722043704987, 0.23769012996189845, 0.16670005368072804, 0.3388907226897138, 0.628661361497443, 0.3977853410248954, 0.30814612179091555, 0.23749784360508652, 0.2308020504356269, 0.07747654283625999, 0.5004684728871729, 0.6544724366631667, 0.2799056059633478, 0.32011125023074827, 0.013001656503900514, 0.15395548943022055, 0.17533192713120102, 0.31335143709741947, 0.25137181063569, 0.27542766280815933, 0.2858413214500813, 0.22531812276870217, 0.3521685638575813, 0.3418834202173909, 0.10667862429228034, 0.24191394162848887, 0.3405660118070628, 0.3881467027999535, 0.46587825980151465, 0.5415953095299509, 0.42797024491160623, 0.37890072146754544, 0.26069464836023054, 0.33736631338159817, 0.23587860639715907, 0.2603944220801584, 0.2948547350307858, 0.20893552366732218, 0.18020887384255072, 0.30180534161642547, 0.2932736828947427, 0.3653735858176621, 0.33013267494530263, 0.527110458519124, 0.3818119609664893, 0.3187901076458827, 0.196324393495281, 0.24296086850359275, 0.49376669628210135, 0.29772176251806715, 0.4258088268323914, 0.34007739001141907, 0.3019686790745153, 0.37301312798624037, 0.011993544738094363, 0.23148653487293822, 0.23189581699368167, 0.22188349443437977, 0.18551244607998194, 0.6082440996925571, 0.24565242428382844, 0.28509666475211737, 0.3233385048969484, 0.26477303475120195, 0.21707002018927435, 0.9030373848786599, 0.4712567461794948, 0.3546443574593096, 0.45911047019456347, 0.23078228236897697, 0.18921946656433328, 0.266237486174373, 0.6198937648954076, 0.43472074742701367, 0.010305874271412802, 0.08668929600683478, 0.2955074732121938, 0.2611446681397253, 0.17335082137030328, 1.0, 0.5898010320358643, 0.49515987537289463, 0.3038224535463076, 0.3591112755087093, 0.33128646717227705, 0.3342224412147118, 0.049412453485804954, 0.4322816696998138, 0.361546119445406, 0.11343569013549355, 0.05541640056630703, 0.43727505291887864, 0.31628074448496174, 0.27203302950011876, 0.0], \"sizemode\": \"area\", \"sizeref\": 0.0025, \"symbol\": \"circle\"}, \"mode\": \"markers\", \"name\": \"\", \"showlegend\": false, \"type\": \"scatter\", \"x\": [300.0, 90.0, -140.0, 60.0, 320.0, -200.0, -390.0, -370.0, 430.0, -70.0, 310.0, 300.0, -170.0, 60.0, 330.0, 340.0, 170.0, 360.0, 80.0, -100.0, 370.0, 390.0, 400.0, -240.0, 210.0, -130.0, -760.0, -470.0, 360.0, 340.0, -130.0, -240.0, 380.0, -130.0, 140.0, 390.0, -130.0, -490.0, -470.0, 300.0, -220.0, -450.0, 350.0, 360.0, -210.0, 370.0, 170.0, -190.0, -470.0, 360.0, 380.0, -390.0, -460.0, -440.0, 260.0, 200.0, 360.0, 380.0, -270.0, -470.0, -200.0, -430.0, 340.0, -300.0, 340.0, 350.0, -50.0, 360.0, 90.0, 380.0, 400.0, -160.0, -570.0, -470.0, -130.0, 140.0, 360.0, -200.0, -350.0, 360.0, -70.0, -300.0, 360.0, -230.0, 360.0, -120.0, 370.0, -230.0, -140.0, 370.0, 390.0, -50.0, -360.0, 390.0, -150.0, 50.0, 400.0, -50.0, 30.0, 180.0, -80.0, -70.0, -760.0, -470.0, 310.0, 70.0, 60.0, -10.0, -470.0, -440.0, -420.0, 310.0, -30.0, -410.0, -390.0, 160.0, 100.0, 210.0, -100.0, -390.0, 90.0, 310.0, 310.0, -10.0, -410.0, -390.0, -370.0, 430.0, 300.0, -40.0, 40.0, 0.0, -200.0, -380.0, -20.0, -360.0, -300.0, -220.0, -310.0, 180.0, 130.0, -210.0, -300.0, 120.0, 340.0, 380.0, 400.0, 430.0, 230.0, -60.0, 80.0, -90.0, -380.0, -170.0, -350.0, -1230.0, -80.0, -130.0, 210.0, 60.0, 340.0, 310.0, 40.0, -110.0, -300.0, 360.0, -10.0, 380.0, 130.0, -10.0, 310.0, 0.0, -90.0, -340.0, -330.0, -310.0, 360.0, -70.0, -210.0, 40.0, -50.0, -300.0, 350.0, 370.0, 200.0, 400.0, -90.0, -340.0, -330.0, 380.0, 400.0, 0.0, -250.0, -150.0, -330.0, -310.0, 370.0, 390.0, 410.0, -10.0, 250.0, 90.0, 70.0, -320.0, 440.0, 170.0, -250.0, -380.0, 440.0, 40.0, -50.0, null], \"xaxis\": \"x\", \"y\": [5603, 550, -2971, 405, 2564, -4178, -3047, -6279, 8071, -1517, 2308, 1974, -3453, 391, 15294, 2679, 1128, 11201, 527, -2115, 4944, 3213, 12150, -4832, 7901, -2631, -2509, -4566, 14846, 2220, -2622, -694, 4459, -2778, 922, 13608, -2714, -2712, -7167, 1975, -4523, -5090, 12926, 4873, -4216, 5358, 1075, -3876, -2851, 6077, 6192, -7960, -5834, -2708, 1710, 1338, 5258, 4736, -5475, -6382, -594, -3483, 2622, -6080, 15947, 3270, -1035, 2919, 554, 5292, 5914, -3347, -1648, -4461, -396, 878, 3584, -4094, -1012, 4909, -1509, -871, 3859, -4647, 2879, -2417, 4232, -4744, -419, 6126, 7577, -1147, -1054, 5815, -3002, 268, 6806, -1144, 611, 3497, -1686, -198, -3990, -4435, 2065, 414, 361, -239, -5557, -2767, -5037, 2056, -596, -6710, -3201, 1056, 635, 1384, -1993, -3748, 541, 7538, 2048, -210, -2050, -2114, -5616, 4120, 8022, -895, 96, -7477, -4001, -3385, -65, -1476, -882, -628, -1817, 684, 503, -4189, -1436, 448, 1350, 2969, 4741, 2492, 1483, -1353, 512, -1963, -1348, -490, -2405, -2899, -251, -394, 825, 243, 3718, 1227, 51, -2374, -1425, 3287, -363, 2150, 497, -302, 1204, -6744, -1878, -1845, -1963, -2584, 5489, -1406, -613, 136, -986, -1885, 10604, 2973, 782, 2997, -1899, -2787, -1043, 6024, 2493, -6820, -5117, -445, -1158, -2856, 13003, 5522, 3832, -281, 973, 354, 428, -6394, 2665, 1104, -5045, -6283, 2772, 2, -1078, -7668], \"yaxis\": \"y\"}],\n",
       "                        {\"coloraxis\": {\"colorbar\": {\"title\": {\"text\": \"Consec 2\"}}, \"colorscale\": [[0.0, \"#0d0887\"], [0.1111111111111111, \"#46039f\"], [0.2222222222222222, \"#7201a8\"], [0.3333333333333333, \"#9c179e\"], [0.4444444444444444, \"#bd3786\"], [0.5555555555555556, \"#d8576b\"], [0.6666666666666666, \"#ed7953\"], [0.7777777777777778, \"#fb9f3a\"], [0.8888888888888888, \"#fdca26\"], [1.0, \"#f0f921\"]]}, \"legend\": {\"itemsizing\": \"constant\", \"tracegroupgap\": 0}, \"margin\": {\"t\": 60}, \"template\": {\"data\": {\"bar\": [{\"error_x\": {\"color\": \"#2a3f5f\"}, \"error_y\": {\"color\": \"#2a3f5f\"}, \"marker\": {\"line\": {\"color\": \"#E5ECF6\", \"width\": 0.5}}, \"type\": \"bar\"}], \"barpolar\": [{\"marker\": {\"line\": {\"color\": \"#E5ECF6\", \"width\": 0.5}}, \"type\": \"barpolar\"}], \"carpet\": [{\"aaxis\": {\"endlinecolor\": \"#2a3f5f\", \"gridcolor\": \"white\", \"linecolor\": \"white\", \"minorgridcolor\": \"white\", \"startlinecolor\": \"#2a3f5f\"}, \"baxis\": {\"endlinecolor\": \"#2a3f5f\", \"gridcolor\": \"white\", \"linecolor\": \"white\", \"minorgridcolor\": \"white\", \"startlinecolor\": \"#2a3f5f\"}, \"type\": \"carpet\"}], \"choropleth\": [{\"colorbar\": {\"outlinewidth\": 0, \"ticks\": \"\"}, \"type\": \"choropleth\"}], \"contour\": [{\"colorbar\": {\"outlinewidth\": 0, \"ticks\": \"\"}, \"colorscale\": [[0.0, \"#0d0887\"], [0.1111111111111111, \"#46039f\"], [0.2222222222222222, \"#7201a8\"], [0.3333333333333333, \"#9c179e\"], [0.4444444444444444, \"#bd3786\"], [0.5555555555555556, \"#d8576b\"], [0.6666666666666666, \"#ed7953\"], [0.7777777777777778, \"#fb9f3a\"], [0.8888888888888888, \"#fdca26\"], [1.0, \"#f0f921\"]], \"type\": \"contour\"}], \"contourcarpet\": [{\"colorbar\": {\"outlinewidth\": 0, \"ticks\": \"\"}, \"type\": \"contourcarpet\"}], \"heatmap\": [{\"colorbar\": {\"outlinewidth\": 0, \"ticks\": \"\"}, \"colorscale\": [[0.0, \"#0d0887\"], [0.1111111111111111, \"#46039f\"], [0.2222222222222222, \"#7201a8\"], [0.3333333333333333, \"#9c179e\"], [0.4444444444444444, \"#bd3786\"], [0.5555555555555556, \"#d8576b\"], [0.6666666666666666, \"#ed7953\"], [0.7777777777777778, \"#fb9f3a\"], [0.8888888888888888, \"#fdca26\"], [1.0, \"#f0f921\"]], \"type\": \"heatmap\"}], \"heatmapgl\": [{\"colorbar\": {\"outlinewidth\": 0, \"ticks\": \"\"}, \"colorscale\": [[0.0, \"#0d0887\"], [0.1111111111111111, \"#46039f\"], [0.2222222222222222, \"#7201a8\"], [0.3333333333333333, \"#9c179e\"], [0.4444444444444444, \"#bd3786\"], [0.5555555555555556, \"#d8576b\"], [0.6666666666666666, \"#ed7953\"], [0.7777777777777778, \"#fb9f3a\"], [0.8888888888888888, \"#fdca26\"], [1.0, \"#f0f921\"]], \"type\": \"heatmapgl\"}], \"histogram\": [{\"marker\": {\"colorbar\": {\"outlinewidth\": 0, \"ticks\": \"\"}}, \"type\": \"histogram\"}], \"histogram2d\": [{\"colorbar\": {\"outlinewidth\": 0, \"ticks\": \"\"}, \"colorscale\": [[0.0, \"#0d0887\"], [0.1111111111111111, \"#46039f\"], [0.2222222222222222, \"#7201a8\"], [0.3333333333333333, \"#9c179e\"], [0.4444444444444444, \"#bd3786\"], [0.5555555555555556, \"#d8576b\"], [0.6666666666666666, \"#ed7953\"], [0.7777777777777778, \"#fb9f3a\"], [0.8888888888888888, \"#fdca26\"], [1.0, \"#f0f921\"]], \"type\": \"histogram2d\"}], \"histogram2dcontour\": [{\"colorbar\": {\"outlinewidth\": 0, \"ticks\": \"\"}, \"colorscale\": [[0.0, \"#0d0887\"], [0.1111111111111111, \"#46039f\"], [0.2222222222222222, \"#7201a8\"], [0.3333333333333333, \"#9c179e\"], [0.4444444444444444, \"#bd3786\"], [0.5555555555555556, \"#d8576b\"], [0.6666666666666666, \"#ed7953\"], [0.7777777777777778, \"#fb9f3a\"], [0.8888888888888888, \"#fdca26\"], [1.0, \"#f0f921\"]], \"type\": \"histogram2dcontour\"}], \"mesh3d\": [{\"colorbar\": {\"outlinewidth\": 0, \"ticks\": \"\"}, \"type\": \"mesh3d\"}], \"parcoords\": [{\"line\": {\"colorbar\": {\"outlinewidth\": 0, \"ticks\": \"\"}}, \"type\": \"parcoords\"}], \"pie\": [{\"automargin\": true, \"type\": \"pie\"}], \"scatter\": [{\"marker\": {\"colorbar\": {\"outlinewidth\": 0, \"ticks\": \"\"}}, \"type\": \"scatter\"}], \"scatter3d\": [{\"line\": {\"colorbar\": {\"outlinewidth\": 0, \"ticks\": \"\"}}, \"marker\": {\"colorbar\": {\"outlinewidth\": 0, \"ticks\": \"\"}}, \"type\": \"scatter3d\"}], \"scattercarpet\": [{\"marker\": {\"colorbar\": {\"outlinewidth\": 0, \"ticks\": \"\"}}, \"type\": \"scattercarpet\"}], \"scattergeo\": [{\"marker\": {\"colorbar\": {\"outlinewidth\": 0, \"ticks\": \"\"}}, \"type\": \"scattergeo\"}], \"scattergl\": [{\"marker\": {\"colorbar\": {\"outlinewidth\": 0, \"ticks\": \"\"}}, \"type\": \"scattergl\"}], \"scattermapbox\": [{\"marker\": {\"colorbar\": {\"outlinewidth\": 0, \"ticks\": \"\"}}, \"type\": \"scattermapbox\"}], \"scatterpolar\": [{\"marker\": {\"colorbar\": {\"outlinewidth\": 0, \"ticks\": \"\"}}, \"type\": \"scatterpolar\"}], \"scatterpolargl\": [{\"marker\": {\"colorbar\": {\"outlinewidth\": 0, \"ticks\": \"\"}}, \"type\": \"scatterpolargl\"}], \"scatterternary\": [{\"marker\": {\"colorbar\": {\"outlinewidth\": 0, \"ticks\": \"\"}}, \"type\": \"scatterternary\"}], \"surface\": [{\"colorbar\": {\"outlinewidth\": 0, \"ticks\": \"\"}, \"colorscale\": [[0.0, \"#0d0887\"], [0.1111111111111111, \"#46039f\"], [0.2222222222222222, \"#7201a8\"], [0.3333333333333333, \"#9c179e\"], [0.4444444444444444, \"#bd3786\"], [0.5555555555555556, \"#d8576b\"], [0.6666666666666666, \"#ed7953\"], [0.7777777777777778, \"#fb9f3a\"], [0.8888888888888888, \"#fdca26\"], [1.0, \"#f0f921\"]], \"type\": \"surface\"}], \"table\": [{\"cells\": {\"fill\": {\"color\": \"#EBF0F8\"}, \"line\": {\"color\": \"white\"}}, \"header\": {\"fill\": {\"color\": \"#C8D4E3\"}, \"line\": {\"color\": \"white\"}}, \"type\": \"table\"}]}, \"layout\": {\"annotationdefaults\": {\"arrowcolor\": \"#2a3f5f\", \"arrowhead\": 0, \"arrowwidth\": 1}, \"coloraxis\": {\"colorbar\": {\"outlinewidth\": 0, \"ticks\": \"\"}}, \"colorscale\": {\"diverging\": [[0, \"#8e0152\"], [0.1, \"#c51b7d\"], [0.2, \"#de77ae\"], [0.3, \"#f1b6da\"], [0.4, \"#fde0ef\"], [0.5, \"#f7f7f7\"], [0.6, \"#e6f5d0\"], [0.7, \"#b8e186\"], [0.8, \"#7fbc41\"], [0.9, \"#4d9221\"], [1, \"#276419\"]], \"sequential\": [[0.0, \"#0d0887\"], [0.1111111111111111, \"#46039f\"], [0.2222222222222222, \"#7201a8\"], [0.3333333333333333, \"#9c179e\"], [0.4444444444444444, \"#bd3786\"], [0.5555555555555556, \"#d8576b\"], [0.6666666666666666, \"#ed7953\"], [0.7777777777777778, \"#fb9f3a\"], [0.8888888888888888, \"#fdca26\"], [1.0, \"#f0f921\"]], \"sequentialminus\": [[0.0, \"#0d0887\"], [0.1111111111111111, \"#46039f\"], [0.2222222222222222, \"#7201a8\"], [0.3333333333333333, \"#9c179e\"], [0.4444444444444444, \"#bd3786\"], [0.5555555555555556, \"#d8576b\"], [0.6666666666666666, \"#ed7953\"], [0.7777777777777778, \"#fb9f3a\"], [0.8888888888888888, \"#fdca26\"], [1.0, \"#f0f921\"]]}, \"colorway\": [\"#636efa\", \"#EF553B\", \"#00cc96\", \"#ab63fa\", \"#FFA15A\", \"#19d3f3\", \"#FF6692\", \"#B6E880\", \"#FF97FF\", \"#FECB52\"], \"font\": {\"color\": \"#2a3f5f\"}, \"geo\": {\"bgcolor\": \"white\", \"lakecolor\": \"white\", \"landcolor\": \"#E5ECF6\", \"showlakes\": true, \"showland\": true, \"subunitcolor\": \"white\"}, \"hoverlabel\": {\"align\": \"left\"}, \"hovermode\": \"closest\", \"mapbox\": {\"style\": \"light\"}, \"paper_bgcolor\": \"white\", \"plot_bgcolor\": \"#E5ECF6\", \"polar\": {\"angularaxis\": {\"gridcolor\": \"white\", \"linecolor\": \"white\", \"ticks\": \"\"}, \"bgcolor\": \"#E5ECF6\", \"radialaxis\": {\"gridcolor\": \"white\", \"linecolor\": \"white\", \"ticks\": \"\"}}, \"scene\": {\"xaxis\": {\"backgroundcolor\": \"#E5ECF6\", \"gridcolor\": \"white\", \"gridwidth\": 2, \"linecolor\": \"white\", \"showbackground\": true, \"ticks\": \"\", \"zerolinecolor\": \"white\"}, \"yaxis\": {\"backgroundcolor\": \"#E5ECF6\", \"gridcolor\": \"white\", \"gridwidth\": 2, \"linecolor\": \"white\", \"showbackground\": true, \"ticks\": \"\", \"zerolinecolor\": \"white\"}, \"zaxis\": {\"backgroundcolor\": \"#E5ECF6\", \"gridcolor\": \"white\", \"gridwidth\": 2, \"linecolor\": \"white\", \"showbackground\": true, \"ticks\": \"\", \"zerolinecolor\": \"white\"}}, \"shapedefaults\": {\"line\": {\"color\": \"#2a3f5f\"}}, \"ternary\": {\"aaxis\": {\"gridcolor\": \"white\", \"linecolor\": \"white\", \"ticks\": \"\"}, \"baxis\": {\"gridcolor\": \"white\", \"linecolor\": \"white\", \"ticks\": \"\"}, \"bgcolor\": \"#E5ECF6\", \"caxis\": {\"gridcolor\": \"white\", \"linecolor\": \"white\", \"ticks\": \"\"}}, \"title\": {\"x\": 0.05}, \"xaxis\": {\"automargin\": true, \"gridcolor\": \"white\", \"linecolor\": \"white\", \"ticks\": \"\", \"title\": {\"standoff\": 15}, \"zerolinecolor\": \"white\", \"zerolinewidth\": 2}, \"yaxis\": {\"automargin\": true, \"gridcolor\": \"white\", \"linecolor\": \"white\", \"ticks\": \"\", \"title\": {\"standoff\": 15}, \"zerolinecolor\": \"white\", \"zerolinewidth\": 2}}}, \"xaxis\": {\"anchor\": \"y\", \"domain\": [0.0, 1.0], \"title\": {\"text\": \"Goal_Delta\"}}, \"yaxis\": {\"anchor\": \"x\", \"domain\": [0.0, 1.0], \"title\": {\"text\": \"Difference\"}}},\n",
       "                        {\"responsive\": true}\n",
       "                    ).then(function(){\n",
       "                            \n",
       "var gd = document.getElementById('c1c6b465-d4b5-4983-b02c-605548800cbc');\n",
       "var x = new MutationObserver(function (mutations, observer) {{\n",
       "        var display = window.getComputedStyle(gd).display;\n",
       "        if (!display || display === 'none') {{\n",
       "            console.log([gd, 'removed!']);\n",
       "            Plotly.purge(gd);\n",
       "            observer.disconnect();\n",
       "        }}\n",
       "}});\n",
       "\n",
       "// Listen for the removal of the full notebook cells\n",
       "var notebookContainer = gd.closest('#notebook-container');\n",
       "if (notebookContainer) {{\n",
       "    x.observe(notebookContainer, {childList: true});\n",
       "}}\n",
       "\n",
       "// Listen for the clearing of the current output cell\n",
       "var outputEl = gd.closest('.output');\n",
       "if (outputEl) {{\n",
       "    x.observe(outputEl, {childList: true});\n",
       "}}\n",
       "\n",
       "                        })\n",
       "                };\n",
       "                });\n",
       "            </script>\n",
       "        </div>"
      ]
     },
     "metadata": {},
     "output_type": "display_data"
    }
   ],
   "source": [
    "# plt.plot(df['Difference']);\n",
    "# fig = go.Figure(\n",
    "#     data=[go.Scatter(y=df['Goal_Delta'], x=df['Goal_Diff_Perc'])]\n",
    "# )\n",
    "# fig.show()\n",
    "\n",
    "fig = px.scatter(df,x='Goal_Delta', y='Difference', color=\"Consec 2\",size='Diff_Scale_Norm')\n",
    "fig.show()"
   ]
  },
  {
   "cell_type": "code",
   "execution_count": 350,
   "metadata": {},
   "outputs": [
    {
     "data": {
      "application/vnd.plotly.v1+json": {
       "config": {
        "plotlyServerURL": "https://plot.ly"
       },
       "data": [
        {
         "hoverlabel": {
          "namelength": 0
         },
         "hovertemplate": "Difference=%{x}<br>Goal_Delta=%{y}<br>Goal_Diff_Perc=%{marker.size}<br>Consec 3=%{marker.color}",
         "legendgroup": "",
         "marker": {
          "color": [
           null,
           null,
           0,
           0,
           0,
           0,
           0,
           1,
           0,
           0,
           0,
           0,
           0,
           0,
           0,
           1,
           1,
           1,
           1,
           0,
           0,
           0,
           1,
           0,
           0,
           0,
           0,
           1,
           0,
           0,
           0,
           0,
           0,
           0,
           0,
           0,
           0,
           0,
           1,
           0,
           0,
           0,
           0,
           0,
           0,
           0,
           0,
           0,
           0,
           0,
           0,
           0,
           0,
           1,
           0,
           0,
           1,
           1,
           0,
           0,
           1,
           1,
           0,
           0,
           0,
           0,
           0,
           0,
           0,
           1,
           1,
           0,
           0,
           1,
           1,
           0,
           0,
           0,
           0,
           0,
           0,
           0,
           0,
           0,
           0,
           0,
           0,
           0,
           0,
           0,
           0,
           0,
           0,
           0,
           0,
           0,
           0,
           0,
           0,
           0,
           0,
           0,
           1,
           1,
           0,
           0,
           1,
           0,
           0,
           1,
           1,
           0,
           0,
           0,
           1,
           0,
           0,
           1,
           0,
           0,
           0,
           0,
           1,
           0,
           0,
           1,
           1,
           0,
           0,
           0,
           0,
           0,
           0,
           0,
           1,
           1,
           1,
           1,
           1,
           0,
           0,
           0,
           0,
           0,
           0,
           1,
           1,
           1,
           1,
           0,
           0,
           0,
           0,
           1,
           1,
           1,
           1,
           1,
           0,
           0,
           1,
           1,
           1,
           0,
           0,
           0,
           0,
           0,
           0,
           0,
           0,
           0,
           0,
           0,
           1,
           1,
           0,
           0,
           0,
           0,
           0,
           0,
           0,
           0,
           1,
           1,
           0,
           0,
           1,
           0,
           0,
           1,
           0,
           0,
           1,
           1,
           0,
           0,
           1,
           0,
           0,
           0,
           1,
           0,
           0,
           0,
           0,
           0,
           0,
           0,
           0,
           0
          ],
          "coloraxis": "coloraxis",
          "size": [
           174.70666666666668,
           107.05128205128204,
           62.344740177439796,
           105.2258064516129,
           132.82970550576186,
           48.61008610086101,
           61.576292559899116,
           16.724137931034484,
           212.56624825662485,
           80.03947368421052,
           130.65073041168657,
           125.17857142857143,
           57.57985257985258,
           104.90589711417817,
           290.4607721046077,
           132.04545454545456,
           112.9655172413793,
           226.27959413754226,
           105.70964247020585,
           77.28249194414609,
           153.68078175895766,
           133.53862212943633,
           221.86559679037111,
           53.40405014464802,
           177.99605133267522,
           74.55512572533848,
           75.4260528893242,
           51.682539682539684,
           265.3229398663697,
           123.76873661670236,
           72.91322314049586,
           92.73298429319372,
           147.89473684210526,
           71.3312693498452,
           109.64435146443515,
           240.28865979381445,
           73.10208126858275,
           72.77108433734941,
           24.318901795142555,
           121.94444444444446,
           51.365591397849464,
           43.942731277533035,
           249.7798377752028,
           154.2650334075724,
           54.86081370449679,
           158.68565169769988,
           111.31578947368422,
           59.91726990692865,
           69.92616033755274,
           167.44728079911212,
           166.08324439701175,
           18.358974358974358,
           37.67094017094017,
           69.57303370786518,
           120.2127659574468,
           115.3440366972477,
           158.94618834080717,
           151.03448275862067,
           43.32298136645963,
           32.03407880724175,
           93.3408071748879,
           60.05733944954128,
           131.62846803377565,
           29.54808806488992,
           291.4405762304922,
           137.71626297577853,
           88.52549889135256,
           132.5418060200669,
           105.93783494105038,
           156.1783439490446,
           160.3469387755102,
           67.18627450980392,
           83.58565737051794,
           52.89334741288278,
           95.6,
           109.89853438556933,
           139.7780244173141,
           56.307363927427964,
           88.9640130861505,
           155.65759637188208,
           83.56209150326798,
           90.4390779363337,
           143.80249716231555,
           49.32388222464558,
           132.20357941834453,
           74.01075268817205,
           146.10021786492376,
           50.32460732984293,
           95.50429184549355,
           166.73202614379085,
           179.34031413612564,
           88.46076458752515,
           89.34277047522751,
           161.0178384050367,
           69.73790322580645,
           102.74309109518936,
           169.30753564154784,
           88.80626223091977,
           106.00786627335299,
           134.2843137254902,
           83.75722543352602,
           98.07766990291262,
           60.997067448680355,
           53.16789862724393,
           122.94444444444443,
           104.4468313641246,
           103.84861407249466,
           97.46822033898304,
           41.07104984093319,
           69.11830357142857,
           40.88028169014085,
           125.38271604938271,
           92.91319857312723,
           19.928400954653938,
           59.83688833124216,
           113.93139841688655,
           108.20413436692506,
           117.65306122448979,
           75.24223602484471,
           52.855345911949684,
           107.15608465608466,
           198.5359477124183,
           125.7286432160804,
           97.46070133010882,
           75.181598062954,
           73.07006369426752,
           24.718498659517426,
           158.11001410437234,
           206.67553191489364,
           88.55498721227622,
           101.23393316195373,
           4.3861892583120206,
           48.83631713554987,
           55.577427821522306,
           99.10220994475138,
           79.55678670360112,
           87.14285714285714,
           90.42682926829269,
           71.34069400630915,
           111.34328358208955,
           108.09983896940419,
           33.927444794952685,
           76.5742251223491,
           107.68439108061749,
           122.6890756302521,
           147.20190779014308,
           171.07946026986508,
           135.24752475247524,
           119.77333333333333,
           82.496765847348,
           106.67535853976533,
           74.67096774193548,
           82.40208877284594,
           93.26923076923077,
           66.17440225035162,
           57.11538461538461,
           95.46112115732369,
           92.77064220183486,
           115.50751879699249,
           104.39421338155515,
           166.51162790697674,
           120.69139966273188,
           100.81730769230771,
           62.197452229299365,
           76.90437601296597,
           155.99659284497446,
           94.17335473515249,
           134.56591639871382,
           107.53030303030302,
           95.51263001485884,
           117.91666666666667,
           4.068278805120911,
           73.28591749644382,
           73.4149855907781,
           70.25757575757576,
           58.78787878787879,
           192.0973154362416,
           77.75316455696203,
           90.19200000000001,
           102.25165562913907,
           83.78289473684211,
           68.7396351575456,
           285.06108202443284,
           148.89802631578948,
           112.12403100775194,
           145.0676691729323,
           73.06382978723404,
           59.956896551724135,
           84.24471299093655,
           195.7710651828299,
           137.37631184407797,
           3.536067892503536,
           27.623762376237625,
           93.47507331378299,
           82.63868065967016,
           54.952681388012614,
           315.6384742951907,
           186.28125,
           156.4359351988218,
           96.09722222222223,
           113.5326842837274,
           104.75806451612904,
           105.68393094289507,
           15.868421052631579,
           136.60714285714286,
           114.30051813471502,
           36.05830164765526,
           17.76178010471204,
           138.1818181818182,
           100.02597402597402,
           86.07235142118863,
           0.2860858257477243
          ],
          "sizemode": "area",
          "sizeref": 0.7890961857379767,
          "symbol": "circle"
         },
         "mode": "markers",
         "name": "",
         "showlegend": false,
         "type": "scatter",
         "x": [
          5603,
          550,
          -2971,
          405,
          2564,
          -4178,
          -3047,
          -6279,
          8071,
          -1517,
          2308,
          1974,
          -3453,
          391,
          15294,
          2679,
          1128,
          11201,
          527,
          -2115,
          4944,
          3213,
          12150,
          -4832,
          7901,
          -2631,
          -2509,
          -4566,
          14846,
          2220,
          -2622,
          -694,
          4459,
          -2778,
          922,
          13608,
          -2714,
          -2712,
          -7167,
          1975,
          -4523,
          -5090,
          12926,
          4873,
          -4216,
          5358,
          1075,
          -3876,
          -2851,
          6077,
          6192,
          -7960,
          -5834,
          -2708,
          1710,
          1338,
          5258,
          4736,
          -5475,
          -6382,
          -594,
          -3483,
          2622,
          -6080,
          15947,
          3270,
          -1035,
          2919,
          554,
          5292,
          5914,
          -3347,
          -1648,
          -4461,
          -396,
          878,
          3584,
          -4094,
          -1012,
          4909,
          -1509,
          -871,
          3859,
          -4647,
          2879,
          -2417,
          4232,
          -4744,
          -419,
          6126,
          7577,
          -1147,
          -1054,
          5815,
          -3002,
          268,
          6806,
          -1144,
          611,
          3497,
          -1686,
          -198,
          -3990,
          -4435,
          2065,
          414,
          361,
          -239,
          -5557,
          -2767,
          -5037,
          2056,
          -596,
          -6710,
          -3201,
          1056,
          635,
          1384,
          -1993,
          -3748,
          541,
          7538,
          2048,
          -210,
          -2050,
          -2114,
          -5616,
          4120,
          8022,
          -895,
          96,
          -7477,
          -4001,
          -3385,
          -65,
          -1476,
          -882,
          -628,
          -1817,
          684,
          503,
          -4189,
          -1436,
          448,
          1350,
          2969,
          4741,
          2492,
          1483,
          -1353,
          512,
          -1963,
          -1348,
          -490,
          -2405,
          -2899,
          -251,
          -394,
          825,
          243,
          3718,
          1227,
          51,
          -2374,
          -1425,
          3287,
          -363,
          2150,
          497,
          -302,
          1204,
          -6744,
          -1878,
          -1845,
          -1963,
          -2584,
          5489,
          -1406,
          -613,
          136,
          -986,
          -1885,
          10604,
          2973,
          782,
          2997,
          -1899,
          -2787,
          -1043,
          6024,
          2493,
          -6820,
          -5117,
          -445,
          -1158,
          -2856,
          13003,
          5522,
          3832,
          -281,
          973,
          354,
          428,
          -6394,
          2665,
          1104,
          -5045,
          -6283,
          2772,
          2,
          -1078,
          -7668
         ],
         "xaxis": "x",
         "y": [
          300,
          90,
          -140,
          60,
          320,
          -200,
          -390,
          -370,
          430,
          -70,
          310,
          300,
          -170,
          60,
          330,
          340,
          170,
          360,
          80,
          -100,
          370,
          390,
          400,
          -240,
          210,
          -130,
          -760,
          -470,
          360,
          340,
          -130,
          -240,
          380,
          -130,
          140,
          390,
          -130,
          -490,
          -470,
          300,
          -220,
          -450,
          350,
          360,
          -210,
          370,
          170,
          -190,
          -470,
          360,
          380,
          -390,
          -460,
          -440,
          260,
          200,
          360,
          380,
          -270,
          -470,
          -200,
          -430,
          340,
          -300,
          340,
          350,
          -50,
          360,
          90,
          380,
          400,
          -160,
          -570,
          -470,
          -130,
          140,
          360,
          -200,
          -350,
          360,
          -70,
          -300,
          360,
          -230,
          360,
          -120,
          370,
          -230,
          -140,
          370,
          390,
          -50,
          -360,
          390,
          -150,
          50,
          400,
          -50,
          30,
          180,
          -80,
          -70,
          -760,
          -470,
          310,
          70,
          60,
          -10,
          -470,
          -440,
          -420,
          310,
          -30,
          -410,
          -390,
          160,
          100,
          210,
          -100,
          -390,
          90,
          310,
          310,
          -10,
          -410,
          -390,
          -370,
          430,
          300,
          -40,
          40,
          0,
          -200,
          -380,
          -20,
          -360,
          -300,
          -220,
          -310,
          180,
          130,
          -210,
          -300,
          120,
          340,
          380,
          400,
          430,
          230,
          -60,
          80,
          -90,
          -380,
          -170,
          -350,
          -1230,
          -80,
          -130,
          210,
          60,
          340,
          310,
          40,
          -110,
          -300,
          360,
          -10,
          380,
          130,
          -10,
          310,
          0,
          -90,
          -340,
          -330,
          -310,
          360,
          -70,
          -210,
          40,
          -50,
          -300,
          350,
          370,
          200,
          400,
          -90,
          -340,
          -330,
          380,
          400,
          0,
          -250,
          -150,
          -330,
          -310,
          370,
          390,
          410,
          -10,
          250,
          90,
          70,
          -320,
          440,
          170,
          -250,
          -380,
          440,
          40,
          -50,
          null
         ],
         "yaxis": "y"
        }
       ],
       "layout": {
        "coloraxis": {
         "colorbar": {
          "title": {
           "text": "Consec 3"
          }
         },
         "colorscale": [
          [
           0,
           "#0d0887"
          ],
          [
           0.1111111111111111,
           "#46039f"
          ],
          [
           0.2222222222222222,
           "#7201a8"
          ],
          [
           0.3333333333333333,
           "#9c179e"
          ],
          [
           0.4444444444444444,
           "#bd3786"
          ],
          [
           0.5555555555555556,
           "#d8576b"
          ],
          [
           0.6666666666666666,
           "#ed7953"
          ],
          [
           0.7777777777777778,
           "#fb9f3a"
          ],
          [
           0.8888888888888888,
           "#fdca26"
          ],
          [
           1,
           "#f0f921"
          ]
         ]
        },
        "legend": {
         "itemsizing": "constant",
         "tracegroupgap": 0
        },
        "margin": {
         "t": 60
        },
        "template": {
         "data": {
          "bar": [
           {
            "error_x": {
             "color": "#2a3f5f"
            },
            "error_y": {
             "color": "#2a3f5f"
            },
            "marker": {
             "line": {
              "color": "#E5ECF6",
              "width": 0.5
             }
            },
            "type": "bar"
           }
          ],
          "barpolar": [
           {
            "marker": {
             "line": {
              "color": "#E5ECF6",
              "width": 0.5
             }
            },
            "type": "barpolar"
           }
          ],
          "carpet": [
           {
            "aaxis": {
             "endlinecolor": "#2a3f5f",
             "gridcolor": "white",
             "linecolor": "white",
             "minorgridcolor": "white",
             "startlinecolor": "#2a3f5f"
            },
            "baxis": {
             "endlinecolor": "#2a3f5f",
             "gridcolor": "white",
             "linecolor": "white",
             "minorgridcolor": "white",
             "startlinecolor": "#2a3f5f"
            },
            "type": "carpet"
           }
          ],
          "choropleth": [
           {
            "colorbar": {
             "outlinewidth": 0,
             "ticks": ""
            },
            "type": "choropleth"
           }
          ],
          "contour": [
           {
            "colorbar": {
             "outlinewidth": 0,
             "ticks": ""
            },
            "colorscale": [
             [
              0,
              "#0d0887"
             ],
             [
              0.1111111111111111,
              "#46039f"
             ],
             [
              0.2222222222222222,
              "#7201a8"
             ],
             [
              0.3333333333333333,
              "#9c179e"
             ],
             [
              0.4444444444444444,
              "#bd3786"
             ],
             [
              0.5555555555555556,
              "#d8576b"
             ],
             [
              0.6666666666666666,
              "#ed7953"
             ],
             [
              0.7777777777777778,
              "#fb9f3a"
             ],
             [
              0.8888888888888888,
              "#fdca26"
             ],
             [
              1,
              "#f0f921"
             ]
            ],
            "type": "contour"
           }
          ],
          "contourcarpet": [
           {
            "colorbar": {
             "outlinewidth": 0,
             "ticks": ""
            },
            "type": "contourcarpet"
           }
          ],
          "heatmap": [
           {
            "colorbar": {
             "outlinewidth": 0,
             "ticks": ""
            },
            "colorscale": [
             [
              0,
              "#0d0887"
             ],
             [
              0.1111111111111111,
              "#46039f"
             ],
             [
              0.2222222222222222,
              "#7201a8"
             ],
             [
              0.3333333333333333,
              "#9c179e"
             ],
             [
              0.4444444444444444,
              "#bd3786"
             ],
             [
              0.5555555555555556,
              "#d8576b"
             ],
             [
              0.6666666666666666,
              "#ed7953"
             ],
             [
              0.7777777777777778,
              "#fb9f3a"
             ],
             [
              0.8888888888888888,
              "#fdca26"
             ],
             [
              1,
              "#f0f921"
             ]
            ],
            "type": "heatmap"
           }
          ],
          "heatmapgl": [
           {
            "colorbar": {
             "outlinewidth": 0,
             "ticks": ""
            },
            "colorscale": [
             [
              0,
              "#0d0887"
             ],
             [
              0.1111111111111111,
              "#46039f"
             ],
             [
              0.2222222222222222,
              "#7201a8"
             ],
             [
              0.3333333333333333,
              "#9c179e"
             ],
             [
              0.4444444444444444,
              "#bd3786"
             ],
             [
              0.5555555555555556,
              "#d8576b"
             ],
             [
              0.6666666666666666,
              "#ed7953"
             ],
             [
              0.7777777777777778,
              "#fb9f3a"
             ],
             [
              0.8888888888888888,
              "#fdca26"
             ],
             [
              1,
              "#f0f921"
             ]
            ],
            "type": "heatmapgl"
           }
          ],
          "histogram": [
           {
            "marker": {
             "colorbar": {
              "outlinewidth": 0,
              "ticks": ""
             }
            },
            "type": "histogram"
           }
          ],
          "histogram2d": [
           {
            "colorbar": {
             "outlinewidth": 0,
             "ticks": ""
            },
            "colorscale": [
             [
              0,
              "#0d0887"
             ],
             [
              0.1111111111111111,
              "#46039f"
             ],
             [
              0.2222222222222222,
              "#7201a8"
             ],
             [
              0.3333333333333333,
              "#9c179e"
             ],
             [
              0.4444444444444444,
              "#bd3786"
             ],
             [
              0.5555555555555556,
              "#d8576b"
             ],
             [
              0.6666666666666666,
              "#ed7953"
             ],
             [
              0.7777777777777778,
              "#fb9f3a"
             ],
             [
              0.8888888888888888,
              "#fdca26"
             ],
             [
              1,
              "#f0f921"
             ]
            ],
            "type": "histogram2d"
           }
          ],
          "histogram2dcontour": [
           {
            "colorbar": {
             "outlinewidth": 0,
             "ticks": ""
            },
            "colorscale": [
             [
              0,
              "#0d0887"
             ],
             [
              0.1111111111111111,
              "#46039f"
             ],
             [
              0.2222222222222222,
              "#7201a8"
             ],
             [
              0.3333333333333333,
              "#9c179e"
             ],
             [
              0.4444444444444444,
              "#bd3786"
             ],
             [
              0.5555555555555556,
              "#d8576b"
             ],
             [
              0.6666666666666666,
              "#ed7953"
             ],
             [
              0.7777777777777778,
              "#fb9f3a"
             ],
             [
              0.8888888888888888,
              "#fdca26"
             ],
             [
              1,
              "#f0f921"
             ]
            ],
            "type": "histogram2dcontour"
           }
          ],
          "mesh3d": [
           {
            "colorbar": {
             "outlinewidth": 0,
             "ticks": ""
            },
            "type": "mesh3d"
           }
          ],
          "parcoords": [
           {
            "line": {
             "colorbar": {
              "outlinewidth": 0,
              "ticks": ""
             }
            },
            "type": "parcoords"
           }
          ],
          "pie": [
           {
            "automargin": true,
            "type": "pie"
           }
          ],
          "scatter": [
           {
            "marker": {
             "colorbar": {
              "outlinewidth": 0,
              "ticks": ""
             }
            },
            "type": "scatter"
           }
          ],
          "scatter3d": [
           {
            "line": {
             "colorbar": {
              "outlinewidth": 0,
              "ticks": ""
             }
            },
            "marker": {
             "colorbar": {
              "outlinewidth": 0,
              "ticks": ""
             }
            },
            "type": "scatter3d"
           }
          ],
          "scattercarpet": [
           {
            "marker": {
             "colorbar": {
              "outlinewidth": 0,
              "ticks": ""
             }
            },
            "type": "scattercarpet"
           }
          ],
          "scattergeo": [
           {
            "marker": {
             "colorbar": {
              "outlinewidth": 0,
              "ticks": ""
             }
            },
            "type": "scattergeo"
           }
          ],
          "scattergl": [
           {
            "marker": {
             "colorbar": {
              "outlinewidth": 0,
              "ticks": ""
             }
            },
            "type": "scattergl"
           }
          ],
          "scattermapbox": [
           {
            "marker": {
             "colorbar": {
              "outlinewidth": 0,
              "ticks": ""
             }
            },
            "type": "scattermapbox"
           }
          ],
          "scatterpolar": [
           {
            "marker": {
             "colorbar": {
              "outlinewidth": 0,
              "ticks": ""
             }
            },
            "type": "scatterpolar"
           }
          ],
          "scatterpolargl": [
           {
            "marker": {
             "colorbar": {
              "outlinewidth": 0,
              "ticks": ""
             }
            },
            "type": "scatterpolargl"
           }
          ],
          "scatterternary": [
           {
            "marker": {
             "colorbar": {
              "outlinewidth": 0,
              "ticks": ""
             }
            },
            "type": "scatterternary"
           }
          ],
          "surface": [
           {
            "colorbar": {
             "outlinewidth": 0,
             "ticks": ""
            },
            "colorscale": [
             [
              0,
              "#0d0887"
             ],
             [
              0.1111111111111111,
              "#46039f"
             ],
             [
              0.2222222222222222,
              "#7201a8"
             ],
             [
              0.3333333333333333,
              "#9c179e"
             ],
             [
              0.4444444444444444,
              "#bd3786"
             ],
             [
              0.5555555555555556,
              "#d8576b"
             ],
             [
              0.6666666666666666,
              "#ed7953"
             ],
             [
              0.7777777777777778,
              "#fb9f3a"
             ],
             [
              0.8888888888888888,
              "#fdca26"
             ],
             [
              1,
              "#f0f921"
             ]
            ],
            "type": "surface"
           }
          ],
          "table": [
           {
            "cells": {
             "fill": {
              "color": "#EBF0F8"
             },
             "line": {
              "color": "white"
             }
            },
            "header": {
             "fill": {
              "color": "#C8D4E3"
             },
             "line": {
              "color": "white"
             }
            },
            "type": "table"
           }
          ]
         },
         "layout": {
          "annotationdefaults": {
           "arrowcolor": "#2a3f5f",
           "arrowhead": 0,
           "arrowwidth": 1
          },
          "coloraxis": {
           "colorbar": {
            "outlinewidth": 0,
            "ticks": ""
           }
          },
          "colorscale": {
           "diverging": [
            [
             0,
             "#8e0152"
            ],
            [
             0.1,
             "#c51b7d"
            ],
            [
             0.2,
             "#de77ae"
            ],
            [
             0.3,
             "#f1b6da"
            ],
            [
             0.4,
             "#fde0ef"
            ],
            [
             0.5,
             "#f7f7f7"
            ],
            [
             0.6,
             "#e6f5d0"
            ],
            [
             0.7,
             "#b8e186"
            ],
            [
             0.8,
             "#7fbc41"
            ],
            [
             0.9,
             "#4d9221"
            ],
            [
             1,
             "#276419"
            ]
           ],
           "sequential": [
            [
             0,
             "#0d0887"
            ],
            [
             0.1111111111111111,
             "#46039f"
            ],
            [
             0.2222222222222222,
             "#7201a8"
            ],
            [
             0.3333333333333333,
             "#9c179e"
            ],
            [
             0.4444444444444444,
             "#bd3786"
            ],
            [
             0.5555555555555556,
             "#d8576b"
            ],
            [
             0.6666666666666666,
             "#ed7953"
            ],
            [
             0.7777777777777778,
             "#fb9f3a"
            ],
            [
             0.8888888888888888,
             "#fdca26"
            ],
            [
             1,
             "#f0f921"
            ]
           ],
           "sequentialminus": [
            [
             0,
             "#0d0887"
            ],
            [
             0.1111111111111111,
             "#46039f"
            ],
            [
             0.2222222222222222,
             "#7201a8"
            ],
            [
             0.3333333333333333,
             "#9c179e"
            ],
            [
             0.4444444444444444,
             "#bd3786"
            ],
            [
             0.5555555555555556,
             "#d8576b"
            ],
            [
             0.6666666666666666,
             "#ed7953"
            ],
            [
             0.7777777777777778,
             "#fb9f3a"
            ],
            [
             0.8888888888888888,
             "#fdca26"
            ],
            [
             1,
             "#f0f921"
            ]
           ]
          },
          "colorway": [
           "#636efa",
           "#EF553B",
           "#00cc96",
           "#ab63fa",
           "#FFA15A",
           "#19d3f3",
           "#FF6692",
           "#B6E880",
           "#FF97FF",
           "#FECB52"
          ],
          "font": {
           "color": "#2a3f5f"
          },
          "geo": {
           "bgcolor": "white",
           "lakecolor": "white",
           "landcolor": "#E5ECF6",
           "showlakes": true,
           "showland": true,
           "subunitcolor": "white"
          },
          "hoverlabel": {
           "align": "left"
          },
          "hovermode": "closest",
          "mapbox": {
           "style": "light"
          },
          "paper_bgcolor": "white",
          "plot_bgcolor": "#E5ECF6",
          "polar": {
           "angularaxis": {
            "gridcolor": "white",
            "linecolor": "white",
            "ticks": ""
           },
           "bgcolor": "#E5ECF6",
           "radialaxis": {
            "gridcolor": "white",
            "linecolor": "white",
            "ticks": ""
           }
          },
          "scene": {
           "xaxis": {
            "backgroundcolor": "#E5ECF6",
            "gridcolor": "white",
            "gridwidth": 2,
            "linecolor": "white",
            "showbackground": true,
            "ticks": "",
            "zerolinecolor": "white"
           },
           "yaxis": {
            "backgroundcolor": "#E5ECF6",
            "gridcolor": "white",
            "gridwidth": 2,
            "linecolor": "white",
            "showbackground": true,
            "ticks": "",
            "zerolinecolor": "white"
           },
           "zaxis": {
            "backgroundcolor": "#E5ECF6",
            "gridcolor": "white",
            "gridwidth": 2,
            "linecolor": "white",
            "showbackground": true,
            "ticks": "",
            "zerolinecolor": "white"
           }
          },
          "shapedefaults": {
           "line": {
            "color": "#2a3f5f"
           }
          },
          "ternary": {
           "aaxis": {
            "gridcolor": "white",
            "linecolor": "white",
            "ticks": ""
           },
           "baxis": {
            "gridcolor": "white",
            "linecolor": "white",
            "ticks": ""
           },
           "bgcolor": "#E5ECF6",
           "caxis": {
            "gridcolor": "white",
            "linecolor": "white",
            "ticks": ""
           }
          },
          "title": {
           "x": 0.05
          },
          "xaxis": {
           "automargin": true,
           "gridcolor": "white",
           "linecolor": "white",
           "ticks": "",
           "title": {
            "standoff": 15
           },
           "zerolinecolor": "white",
           "zerolinewidth": 2
          },
          "yaxis": {
           "automargin": true,
           "gridcolor": "white",
           "linecolor": "white",
           "ticks": "",
           "title": {
            "standoff": 15
           },
           "zerolinecolor": "white",
           "zerolinewidth": 2
          }
         }
        },
        "xaxis": {
         "anchor": "y",
         "domain": [
          0,
          1
         ],
         "title": {
          "text": "Difference"
         }
        },
        "yaxis": {
         "anchor": "x",
         "domain": [
          0,
          1
         ],
         "title": {
          "text": "Goal_Delta"
         }
        }
       }
      },
      "text/html": [
       "<div>\n",
       "        \n",
       "        \n",
       "            <div id=\"4ee1695d-6db7-4ec3-97b2-239d8fa54c39\" class=\"plotly-graph-div\" style=\"height:525px; width:100%;\"></div>\n",
       "            <script type=\"text/javascript\">\n",
       "                require([\"plotly\"], function(Plotly) {\n",
       "                    window.PLOTLYENV=window.PLOTLYENV || {};\n",
       "                    \n",
       "                if (document.getElementById(\"4ee1695d-6db7-4ec3-97b2-239d8fa54c39\")) {\n",
       "                    Plotly.newPlot(\n",
       "                        '4ee1695d-6db7-4ec3-97b2-239d8fa54c39',\n",
       "                        [{\"hoverlabel\": {\"namelength\": 0}, \"hovertemplate\": \"Difference=%{x}<br>Goal_Delta=%{y}<br>Goal_Diff_Perc=%{marker.size}<br>Consec 3=%{marker.color}\", \"legendgroup\": \"\", \"marker\": {\"color\": [null, null, 0.0, 0.0, 0.0, 0.0, 0.0, 1.0, 0.0, 0.0, 0.0, 0.0, 0.0, 0.0, 0.0, 1.0, 1.0, 1.0, 1.0, 0.0, 0.0, 0.0, 1.0, 0.0, 0.0, 0.0, 0.0, 1.0, 0.0, 0.0, 0.0, 0.0, 0.0, 0.0, 0.0, 0.0, 0.0, 0.0, 1.0, 0.0, 0.0, 0.0, 0.0, 0.0, 0.0, 0.0, 0.0, 0.0, 0.0, 0.0, 0.0, 0.0, 0.0, 1.0, 0.0, 0.0, 1.0, 1.0, 0.0, 0.0, 1.0, 1.0, 0.0, 0.0, 0.0, 0.0, 0.0, 0.0, 0.0, 1.0, 1.0, 0.0, 0.0, 1.0, 1.0, 0.0, 0.0, 0.0, 0.0, 0.0, 0.0, 0.0, 0.0, 0.0, 0.0, 0.0, 0.0, 0.0, 0.0, 0.0, 0.0, 0.0, 0.0, 0.0, 0.0, 0.0, 0.0, 0.0, 0.0, 0.0, 0.0, 0.0, 1.0, 1.0, 0.0, 0.0, 1.0, 0.0, 0.0, 1.0, 1.0, 0.0, 0.0, 0.0, 1.0, 0.0, 0.0, 1.0, 0.0, 0.0, 0.0, 0.0, 1.0, 0.0, 0.0, 1.0, 1.0, 0.0, 0.0, 0.0, 0.0, 0.0, 0.0, 0.0, 1.0, 1.0, 1.0, 1.0, 1.0, 0.0, 0.0, 0.0, 0.0, 0.0, 0.0, 1.0, 1.0, 1.0, 1.0, 0.0, 0.0, 0.0, 0.0, 1.0, 1.0, 1.0, 1.0, 1.0, 0.0, 0.0, 1.0, 1.0, 1.0, 0.0, 0.0, 0.0, 0.0, 0.0, 0.0, 0.0, 0.0, 0.0, 0.0, 0.0, 1.0, 1.0, 0.0, 0.0, 0.0, 0.0, 0.0, 0.0, 0.0, 0.0, 1.0, 1.0, 0.0, 0.0, 1.0, 0.0, 0.0, 1.0, 0.0, 0.0, 1.0, 1.0, 0.0, 0.0, 1.0, 0.0, 0.0, 0.0, 1.0, 0.0, 0.0, 0.0, 0.0, 0.0, 0.0, 0.0, 0.0, 0.0], \"coloraxis\": \"coloraxis\", \"size\": [174.70666666666668, 107.05128205128204, 62.344740177439796, 105.2258064516129, 132.82970550576186, 48.61008610086101, 61.576292559899116, 16.724137931034484, 212.56624825662485, 80.03947368421052, 130.65073041168657, 125.17857142857143, 57.57985257985258, 104.90589711417817, 290.4607721046077, 132.04545454545456, 112.9655172413793, 226.27959413754226, 105.70964247020585, 77.28249194414609, 153.68078175895766, 133.53862212943633, 221.86559679037111, 53.40405014464802, 177.99605133267522, 74.55512572533848, 75.4260528893242, 51.682539682539684, 265.3229398663697, 123.76873661670236, 72.91322314049586, 92.73298429319372, 147.89473684210526, 71.3312693498452, 109.64435146443515, 240.28865979381445, 73.10208126858275, 72.77108433734941, 24.318901795142555, 121.94444444444446, 51.365591397849464, 43.942731277533035, 249.7798377752028, 154.2650334075724, 54.86081370449679, 158.68565169769988, 111.31578947368422, 59.91726990692865, 69.92616033755274, 167.44728079911212, 166.08324439701175, 18.358974358974358, 37.67094017094017, 69.57303370786518, 120.2127659574468, 115.3440366972477, 158.94618834080717, 151.03448275862067, 43.32298136645963, 32.03407880724175, 93.3408071748879, 60.05733944954128, 131.62846803377565, 29.54808806488992, 291.4405762304922, 137.71626297577853, 88.52549889135256, 132.5418060200669, 105.93783494105038, 156.1783439490446, 160.3469387755102, 67.18627450980392, 83.58565737051794, 52.89334741288278, 95.6, 109.89853438556933, 139.7780244173141, 56.307363927427964, 88.9640130861505, 155.65759637188208, 83.56209150326798, 90.4390779363337, 143.80249716231555, 49.32388222464558, 132.20357941834453, 74.01075268817205, 146.10021786492376, 50.32460732984293, 95.50429184549355, 166.73202614379085, 179.34031413612564, 88.46076458752515, 89.34277047522751, 161.0178384050367, 69.73790322580645, 102.74309109518936, 169.30753564154784, 88.80626223091977, 106.00786627335299, 134.2843137254902, 83.75722543352602, 98.07766990291262, 60.997067448680355, 53.16789862724393, 122.94444444444443, 104.4468313641246, 103.84861407249466, 97.46822033898304, 41.07104984093319, 69.11830357142857, 40.88028169014085, 125.38271604938271, 92.91319857312723, 19.928400954653938, 59.83688833124216, 113.93139841688655, 108.20413436692506, 117.65306122448979, 75.24223602484471, 52.855345911949684, 107.15608465608466, 198.5359477124183, 125.7286432160804, 97.46070133010882, 75.181598062954, 73.07006369426752, 24.718498659517426, 158.11001410437234, 206.67553191489364, 88.55498721227622, 101.23393316195373, 4.3861892583120206, 48.83631713554987, 55.577427821522306, 99.10220994475138, 79.55678670360112, 87.14285714285714, 90.42682926829269, 71.34069400630915, 111.34328358208955, 108.09983896940419, 33.927444794952685, 76.5742251223491, 107.68439108061749, 122.6890756302521, 147.20190779014308, 171.07946026986508, 135.24752475247524, 119.77333333333333, 82.496765847348, 106.67535853976533, 74.67096774193548, 82.40208877284594, 93.26923076923077, 66.17440225035162, 57.11538461538461, 95.46112115732369, 92.77064220183486, 115.50751879699249, 104.39421338155515, 166.51162790697674, 120.69139966273188, 100.81730769230771, 62.197452229299365, 76.90437601296597, 155.99659284497446, 94.17335473515249, 134.56591639871382, 107.53030303030302, 95.51263001485884, 117.91666666666667, 4.068278805120911, 73.28591749644382, 73.4149855907781, 70.25757575757576, 58.78787878787879, 192.0973154362416, 77.75316455696203, 90.19200000000001, 102.25165562913907, 83.78289473684211, 68.7396351575456, 285.06108202443284, 148.89802631578948, 112.12403100775194, 145.0676691729323, 73.06382978723404, 59.956896551724135, 84.24471299093655, 195.7710651828299, 137.37631184407797, 3.536067892503536, 27.623762376237625, 93.47507331378299, 82.63868065967016, 54.952681388012614, 315.6384742951907, 186.28125, 156.4359351988218, 96.09722222222223, 113.5326842837274, 104.75806451612904, 105.68393094289507, 15.868421052631579, 136.60714285714286, 114.30051813471502, 36.05830164765526, 17.76178010471204, 138.1818181818182, 100.02597402597402, 86.07235142118863, 0.2860858257477243], \"sizemode\": \"area\", \"sizeref\": 0.7890961857379767, \"symbol\": \"circle\"}, \"mode\": \"markers\", \"name\": \"\", \"showlegend\": false, \"type\": \"scatter\", \"x\": [5603, 550, -2971, 405, 2564, -4178, -3047, -6279, 8071, -1517, 2308, 1974, -3453, 391, 15294, 2679, 1128, 11201, 527, -2115, 4944, 3213, 12150, -4832, 7901, -2631, -2509, -4566, 14846, 2220, -2622, -694, 4459, -2778, 922, 13608, -2714, -2712, -7167, 1975, -4523, -5090, 12926, 4873, -4216, 5358, 1075, -3876, -2851, 6077, 6192, -7960, -5834, -2708, 1710, 1338, 5258, 4736, -5475, -6382, -594, -3483, 2622, -6080, 15947, 3270, -1035, 2919, 554, 5292, 5914, -3347, -1648, -4461, -396, 878, 3584, -4094, -1012, 4909, -1509, -871, 3859, -4647, 2879, -2417, 4232, -4744, -419, 6126, 7577, -1147, -1054, 5815, -3002, 268, 6806, -1144, 611, 3497, -1686, -198, -3990, -4435, 2065, 414, 361, -239, -5557, -2767, -5037, 2056, -596, -6710, -3201, 1056, 635, 1384, -1993, -3748, 541, 7538, 2048, -210, -2050, -2114, -5616, 4120, 8022, -895, 96, -7477, -4001, -3385, -65, -1476, -882, -628, -1817, 684, 503, -4189, -1436, 448, 1350, 2969, 4741, 2492, 1483, -1353, 512, -1963, -1348, -490, -2405, -2899, -251, -394, 825, 243, 3718, 1227, 51, -2374, -1425, 3287, -363, 2150, 497, -302, 1204, -6744, -1878, -1845, -1963, -2584, 5489, -1406, -613, 136, -986, -1885, 10604, 2973, 782, 2997, -1899, -2787, -1043, 6024, 2493, -6820, -5117, -445, -1158, -2856, 13003, 5522, 3832, -281, 973, 354, 428, -6394, 2665, 1104, -5045, -6283, 2772, 2, -1078, -7668], \"xaxis\": \"x\", \"y\": [300.0, 90.0, -140.0, 60.0, 320.0, -200.0, -390.0, -370.0, 430.0, -70.0, 310.0, 300.0, -170.0, 60.0, 330.0, 340.0, 170.0, 360.0, 80.0, -100.0, 370.0, 390.0, 400.0, -240.0, 210.0, -130.0, -760.0, -470.0, 360.0, 340.0, -130.0, -240.0, 380.0, -130.0, 140.0, 390.0, -130.0, -490.0, -470.0, 300.0, -220.0, -450.0, 350.0, 360.0, -210.0, 370.0, 170.0, -190.0, -470.0, 360.0, 380.0, -390.0, -460.0, -440.0, 260.0, 200.0, 360.0, 380.0, -270.0, -470.0, -200.0, -430.0, 340.0, -300.0, 340.0, 350.0, -50.0, 360.0, 90.0, 380.0, 400.0, -160.0, -570.0, -470.0, -130.0, 140.0, 360.0, -200.0, -350.0, 360.0, -70.0, -300.0, 360.0, -230.0, 360.0, -120.0, 370.0, -230.0, -140.0, 370.0, 390.0, -50.0, -360.0, 390.0, -150.0, 50.0, 400.0, -50.0, 30.0, 180.0, -80.0, -70.0, -760.0, -470.0, 310.0, 70.0, 60.0, -10.0, -470.0, -440.0, -420.0, 310.0, -30.0, -410.0, -390.0, 160.0, 100.0, 210.0, -100.0, -390.0, 90.0, 310.0, 310.0, -10.0, -410.0, -390.0, -370.0, 430.0, 300.0, -40.0, 40.0, 0.0, -200.0, -380.0, -20.0, -360.0, -300.0, -220.0, -310.0, 180.0, 130.0, -210.0, -300.0, 120.0, 340.0, 380.0, 400.0, 430.0, 230.0, -60.0, 80.0, -90.0, -380.0, -170.0, -350.0, -1230.0, -80.0, -130.0, 210.0, 60.0, 340.0, 310.0, 40.0, -110.0, -300.0, 360.0, -10.0, 380.0, 130.0, -10.0, 310.0, 0.0, -90.0, -340.0, -330.0, -310.0, 360.0, -70.0, -210.0, 40.0, -50.0, -300.0, 350.0, 370.0, 200.0, 400.0, -90.0, -340.0, -330.0, 380.0, 400.0, 0.0, -250.0, -150.0, -330.0, -310.0, 370.0, 390.0, 410.0, -10.0, 250.0, 90.0, 70.0, -320.0, 440.0, 170.0, -250.0, -380.0, 440.0, 40.0, -50.0, null], \"yaxis\": \"y\"}],\n",
       "                        {\"coloraxis\": {\"colorbar\": {\"title\": {\"text\": \"Consec 3\"}}, \"colorscale\": [[0.0, \"#0d0887\"], [0.1111111111111111, \"#46039f\"], [0.2222222222222222, \"#7201a8\"], [0.3333333333333333, \"#9c179e\"], [0.4444444444444444, \"#bd3786\"], [0.5555555555555556, \"#d8576b\"], [0.6666666666666666, \"#ed7953\"], [0.7777777777777778, \"#fb9f3a\"], [0.8888888888888888, \"#fdca26\"], [1.0, \"#f0f921\"]]}, \"legend\": {\"itemsizing\": \"constant\", \"tracegroupgap\": 0}, \"margin\": {\"t\": 60}, \"template\": {\"data\": {\"bar\": [{\"error_x\": {\"color\": \"#2a3f5f\"}, \"error_y\": {\"color\": \"#2a3f5f\"}, \"marker\": {\"line\": {\"color\": \"#E5ECF6\", \"width\": 0.5}}, \"type\": \"bar\"}], \"barpolar\": [{\"marker\": {\"line\": {\"color\": \"#E5ECF6\", \"width\": 0.5}}, \"type\": \"barpolar\"}], \"carpet\": [{\"aaxis\": {\"endlinecolor\": \"#2a3f5f\", \"gridcolor\": \"white\", \"linecolor\": \"white\", \"minorgridcolor\": \"white\", \"startlinecolor\": \"#2a3f5f\"}, \"baxis\": {\"endlinecolor\": \"#2a3f5f\", \"gridcolor\": \"white\", \"linecolor\": \"white\", \"minorgridcolor\": \"white\", \"startlinecolor\": \"#2a3f5f\"}, \"type\": \"carpet\"}], \"choropleth\": [{\"colorbar\": {\"outlinewidth\": 0, \"ticks\": \"\"}, \"type\": \"choropleth\"}], \"contour\": [{\"colorbar\": {\"outlinewidth\": 0, \"ticks\": \"\"}, \"colorscale\": [[0.0, \"#0d0887\"], [0.1111111111111111, \"#46039f\"], [0.2222222222222222, \"#7201a8\"], [0.3333333333333333, \"#9c179e\"], [0.4444444444444444, \"#bd3786\"], [0.5555555555555556, \"#d8576b\"], [0.6666666666666666, \"#ed7953\"], [0.7777777777777778, \"#fb9f3a\"], [0.8888888888888888, \"#fdca26\"], [1.0, \"#f0f921\"]], \"type\": \"contour\"}], \"contourcarpet\": [{\"colorbar\": {\"outlinewidth\": 0, \"ticks\": \"\"}, \"type\": \"contourcarpet\"}], \"heatmap\": [{\"colorbar\": {\"outlinewidth\": 0, \"ticks\": \"\"}, \"colorscale\": [[0.0, \"#0d0887\"], [0.1111111111111111, \"#46039f\"], [0.2222222222222222, \"#7201a8\"], [0.3333333333333333, \"#9c179e\"], [0.4444444444444444, \"#bd3786\"], [0.5555555555555556, \"#d8576b\"], [0.6666666666666666, \"#ed7953\"], [0.7777777777777778, \"#fb9f3a\"], [0.8888888888888888, \"#fdca26\"], [1.0, \"#f0f921\"]], \"type\": \"heatmap\"}], \"heatmapgl\": [{\"colorbar\": {\"outlinewidth\": 0, \"ticks\": \"\"}, \"colorscale\": [[0.0, \"#0d0887\"], [0.1111111111111111, \"#46039f\"], [0.2222222222222222, \"#7201a8\"], [0.3333333333333333, \"#9c179e\"], [0.4444444444444444, \"#bd3786\"], [0.5555555555555556, \"#d8576b\"], [0.6666666666666666, \"#ed7953\"], [0.7777777777777778, \"#fb9f3a\"], [0.8888888888888888, \"#fdca26\"], [1.0, \"#f0f921\"]], \"type\": \"heatmapgl\"}], \"histogram\": [{\"marker\": {\"colorbar\": {\"outlinewidth\": 0, \"ticks\": \"\"}}, \"type\": \"histogram\"}], \"histogram2d\": [{\"colorbar\": {\"outlinewidth\": 0, \"ticks\": \"\"}, \"colorscale\": [[0.0, \"#0d0887\"], [0.1111111111111111, \"#46039f\"], [0.2222222222222222, \"#7201a8\"], [0.3333333333333333, \"#9c179e\"], [0.4444444444444444, \"#bd3786\"], [0.5555555555555556, \"#d8576b\"], [0.6666666666666666, \"#ed7953\"], [0.7777777777777778, \"#fb9f3a\"], [0.8888888888888888, \"#fdca26\"], [1.0, \"#f0f921\"]], \"type\": \"histogram2d\"}], \"histogram2dcontour\": [{\"colorbar\": {\"outlinewidth\": 0, \"ticks\": \"\"}, \"colorscale\": [[0.0, \"#0d0887\"], [0.1111111111111111, \"#46039f\"], [0.2222222222222222, \"#7201a8\"], [0.3333333333333333, \"#9c179e\"], [0.4444444444444444, \"#bd3786\"], [0.5555555555555556, \"#d8576b\"], [0.6666666666666666, \"#ed7953\"], [0.7777777777777778, \"#fb9f3a\"], [0.8888888888888888, \"#fdca26\"], [1.0, \"#f0f921\"]], \"type\": \"histogram2dcontour\"}], \"mesh3d\": [{\"colorbar\": {\"outlinewidth\": 0, \"ticks\": \"\"}, \"type\": \"mesh3d\"}], \"parcoords\": [{\"line\": {\"colorbar\": {\"outlinewidth\": 0, \"ticks\": \"\"}}, \"type\": \"parcoords\"}], \"pie\": [{\"automargin\": true, \"type\": \"pie\"}], \"scatter\": [{\"marker\": {\"colorbar\": {\"outlinewidth\": 0, \"ticks\": \"\"}}, \"type\": \"scatter\"}], \"scatter3d\": [{\"line\": {\"colorbar\": {\"outlinewidth\": 0, \"ticks\": \"\"}}, \"marker\": {\"colorbar\": {\"outlinewidth\": 0, \"ticks\": \"\"}}, \"type\": \"scatter3d\"}], \"scattercarpet\": [{\"marker\": {\"colorbar\": {\"outlinewidth\": 0, \"ticks\": \"\"}}, \"type\": \"scattercarpet\"}], \"scattergeo\": [{\"marker\": {\"colorbar\": {\"outlinewidth\": 0, \"ticks\": \"\"}}, \"type\": \"scattergeo\"}], \"scattergl\": [{\"marker\": {\"colorbar\": {\"outlinewidth\": 0, \"ticks\": \"\"}}, \"type\": \"scattergl\"}], \"scattermapbox\": [{\"marker\": {\"colorbar\": {\"outlinewidth\": 0, \"ticks\": \"\"}}, \"type\": \"scattermapbox\"}], \"scatterpolar\": [{\"marker\": {\"colorbar\": {\"outlinewidth\": 0, \"ticks\": \"\"}}, \"type\": \"scatterpolar\"}], \"scatterpolargl\": [{\"marker\": {\"colorbar\": {\"outlinewidth\": 0, \"ticks\": \"\"}}, \"type\": \"scatterpolargl\"}], \"scatterternary\": [{\"marker\": {\"colorbar\": {\"outlinewidth\": 0, \"ticks\": \"\"}}, \"type\": \"scatterternary\"}], \"surface\": [{\"colorbar\": {\"outlinewidth\": 0, \"ticks\": \"\"}, \"colorscale\": [[0.0, \"#0d0887\"], [0.1111111111111111, \"#46039f\"], [0.2222222222222222, \"#7201a8\"], [0.3333333333333333, \"#9c179e\"], [0.4444444444444444, \"#bd3786\"], [0.5555555555555556, \"#d8576b\"], [0.6666666666666666, \"#ed7953\"], [0.7777777777777778, \"#fb9f3a\"], [0.8888888888888888, \"#fdca26\"], [1.0, \"#f0f921\"]], \"type\": \"surface\"}], \"table\": [{\"cells\": {\"fill\": {\"color\": \"#EBF0F8\"}, \"line\": {\"color\": \"white\"}}, \"header\": {\"fill\": {\"color\": \"#C8D4E3\"}, \"line\": {\"color\": \"white\"}}, \"type\": \"table\"}]}, \"layout\": {\"annotationdefaults\": {\"arrowcolor\": \"#2a3f5f\", \"arrowhead\": 0, \"arrowwidth\": 1}, \"coloraxis\": {\"colorbar\": {\"outlinewidth\": 0, \"ticks\": \"\"}}, \"colorscale\": {\"diverging\": [[0, \"#8e0152\"], [0.1, \"#c51b7d\"], [0.2, \"#de77ae\"], [0.3, \"#f1b6da\"], [0.4, \"#fde0ef\"], [0.5, \"#f7f7f7\"], [0.6, \"#e6f5d0\"], [0.7, \"#b8e186\"], [0.8, \"#7fbc41\"], [0.9, \"#4d9221\"], [1, \"#276419\"]], \"sequential\": [[0.0, \"#0d0887\"], [0.1111111111111111, \"#46039f\"], [0.2222222222222222, \"#7201a8\"], [0.3333333333333333, \"#9c179e\"], [0.4444444444444444, \"#bd3786\"], [0.5555555555555556, \"#d8576b\"], [0.6666666666666666, \"#ed7953\"], [0.7777777777777778, \"#fb9f3a\"], [0.8888888888888888, \"#fdca26\"], [1.0, \"#f0f921\"]], \"sequentialminus\": [[0.0, \"#0d0887\"], [0.1111111111111111, \"#46039f\"], [0.2222222222222222, \"#7201a8\"], [0.3333333333333333, \"#9c179e\"], [0.4444444444444444, \"#bd3786\"], [0.5555555555555556, \"#d8576b\"], [0.6666666666666666, \"#ed7953\"], [0.7777777777777778, \"#fb9f3a\"], [0.8888888888888888, \"#fdca26\"], [1.0, \"#f0f921\"]]}, \"colorway\": [\"#636efa\", \"#EF553B\", \"#00cc96\", \"#ab63fa\", \"#FFA15A\", \"#19d3f3\", \"#FF6692\", \"#B6E880\", \"#FF97FF\", \"#FECB52\"], \"font\": {\"color\": \"#2a3f5f\"}, \"geo\": {\"bgcolor\": \"white\", \"lakecolor\": \"white\", \"landcolor\": \"#E5ECF6\", \"showlakes\": true, \"showland\": true, \"subunitcolor\": \"white\"}, \"hoverlabel\": {\"align\": \"left\"}, \"hovermode\": \"closest\", \"mapbox\": {\"style\": \"light\"}, \"paper_bgcolor\": \"white\", \"plot_bgcolor\": \"#E5ECF6\", \"polar\": {\"angularaxis\": {\"gridcolor\": \"white\", \"linecolor\": \"white\", \"ticks\": \"\"}, \"bgcolor\": \"#E5ECF6\", \"radialaxis\": {\"gridcolor\": \"white\", \"linecolor\": \"white\", \"ticks\": \"\"}}, \"scene\": {\"xaxis\": {\"backgroundcolor\": \"#E5ECF6\", \"gridcolor\": \"white\", \"gridwidth\": 2, \"linecolor\": \"white\", \"showbackground\": true, \"ticks\": \"\", \"zerolinecolor\": \"white\"}, \"yaxis\": {\"backgroundcolor\": \"#E5ECF6\", \"gridcolor\": \"white\", \"gridwidth\": 2, \"linecolor\": \"white\", \"showbackground\": true, \"ticks\": \"\", \"zerolinecolor\": \"white\"}, \"zaxis\": {\"backgroundcolor\": \"#E5ECF6\", \"gridcolor\": \"white\", \"gridwidth\": 2, \"linecolor\": \"white\", \"showbackground\": true, \"ticks\": \"\", \"zerolinecolor\": \"white\"}}, \"shapedefaults\": {\"line\": {\"color\": \"#2a3f5f\"}}, \"ternary\": {\"aaxis\": {\"gridcolor\": \"white\", \"linecolor\": \"white\", \"ticks\": \"\"}, \"baxis\": {\"gridcolor\": \"white\", \"linecolor\": \"white\", \"ticks\": \"\"}, \"bgcolor\": \"#E5ECF6\", \"caxis\": {\"gridcolor\": \"white\", \"linecolor\": \"white\", \"ticks\": \"\"}}, \"title\": {\"x\": 0.05}, \"xaxis\": {\"automargin\": true, \"gridcolor\": \"white\", \"linecolor\": \"white\", \"ticks\": \"\", \"title\": {\"standoff\": 15}, \"zerolinecolor\": \"white\", \"zerolinewidth\": 2}, \"yaxis\": {\"automargin\": true, \"gridcolor\": \"white\", \"linecolor\": \"white\", \"ticks\": \"\", \"title\": {\"standoff\": 15}, \"zerolinecolor\": \"white\", \"zerolinewidth\": 2}}}, \"xaxis\": {\"anchor\": \"y\", \"domain\": [0.0, 1.0], \"title\": {\"text\": \"Difference\"}}, \"yaxis\": {\"anchor\": \"x\", \"domain\": [0.0, 1.0], \"title\": {\"text\": \"Goal_Delta\"}}},\n",
       "                        {\"responsive\": true}\n",
       "                    ).then(function(){\n",
       "                            \n",
       "var gd = document.getElementById('4ee1695d-6db7-4ec3-97b2-239d8fa54c39');\n",
       "var x = new MutationObserver(function (mutations, observer) {{\n",
       "        var display = window.getComputedStyle(gd).display;\n",
       "        if (!display || display === 'none') {{\n",
       "            console.log([gd, 'removed!']);\n",
       "            Plotly.purge(gd);\n",
       "            observer.disconnect();\n",
       "        }}\n",
       "}});\n",
       "\n",
       "// Listen for the removal of the full notebook cells\n",
       "var notebookContainer = gd.closest('#notebook-container');\n",
       "if (notebookContainer) {{\n",
       "    x.observe(notebookContainer, {childList: true});\n",
       "}}\n",
       "\n",
       "// Listen for the clearing of the current output cell\n",
       "var outputEl = gd.closest('.output');\n",
       "if (outputEl) {{\n",
       "    x.observe(outputEl, {childList: true});\n",
       "}}\n",
       "\n",
       "                        })\n",
       "                };\n",
       "                });\n",
       "            </script>\n",
       "        </div>"
      ]
     },
     "metadata": {},
     "output_type": "display_data"
    }
   ],
   "source": [
    "fig = px.scatter(df,x='Difference', y='Goal_Delta', size=\"Goal_Diff_Perc\", color=\"Consec 3\")\n",
    "fig.show()"
   ]
  },
  {
   "cell_type": "code",
   "execution_count": 361,
   "metadata": {},
   "outputs": [
    {
     "data": {
      "text/plain": [
       "0      0.553097\n",
       "1      0.338558\n",
       "2      0.196791\n",
       "3      0.332770\n",
       "4      0.420303\n",
       "5      0.153238\n",
       "6      0.194355\n",
       "7      0.052126\n",
       "8      0.673152\n",
       "9      0.252902\n",
       "10     0.413394\n",
       "11     0.396041\n",
       "12     0.181682\n",
       "13     0.331755\n",
       "14     0.920160\n",
       "15     0.417816\n",
       "16     0.357313\n",
       "17     0.716638\n",
       "18     0.334304\n",
       "19     0.244160\n",
       "20     0.486423\n",
       "21     0.422551\n",
       "22     0.702641\n",
       "23     0.168440\n",
       "24     0.563528\n",
       "25     0.235511\n",
       "26     0.238273\n",
       "27     0.162981\n",
       "28     0.840447\n",
       "29     0.391570\n",
       "         ...   \n",
       "182    0.903037\n",
       "183    0.471257\n",
       "184    0.354644\n",
       "185    0.459110\n",
       "186    0.230782\n",
       "187    0.189219\n",
       "188    0.266237\n",
       "189    0.619894\n",
       "190    0.434721\n",
       "191    0.010306\n",
       "192    0.086689\n",
       "193    0.295507\n",
       "194    0.261145\n",
       "195    0.173351\n",
       "196    1.000000\n",
       "197    0.589801\n",
       "198    0.495160\n",
       "199    0.303822\n",
       "200    0.359111\n",
       "201    0.331286\n",
       "202    0.334222\n",
       "203    0.049412\n",
       "204    0.432282\n",
       "205    0.361546\n",
       "206    0.113436\n",
       "207    0.055416\n",
       "208    0.437275\n",
       "209    0.316281\n",
       "210    0.272033\n",
       "211    0.000000\n",
       "Name: Diff_Scale_Norm, Length: 212, dtype: float64"
      ]
     },
     "execution_count": 361,
     "metadata": {},
     "output_type": "execute_result"
    }
   ],
   "source": [
    "df['Diff_Scale_Norm']"
   ]
  },
  {
   "cell_type": "code",
   "execution_count": null,
   "metadata": {},
   "outputs": [],
   "source": [
    "#     data=[go.Scatter(y=df['Diffrence'], x=df['Goal'])],\n",
    "#     layout_title_text=\"A Figure Displayed with fig.show()\"\n",
    "# )\n",
    "# fig.show()"
   ]
  }
 ],
 "metadata": {
  "kernelspec": {
   "display_name": "Python 3",
   "language": "python",
   "name": "python3"
  },
  "language_info": {
   "codemirror_mode": {
    "name": "ipython",
    "version": 3
   },
   "file_extension": ".py",
   "mimetype": "text/x-python",
   "name": "python",
   "nbconvert_exporter": "python",
   "pygments_lexer": "ipython3",
   "version": "3.7.0"
  }
 },
 "nbformat": 4,
 "nbformat_minor": 2
}
